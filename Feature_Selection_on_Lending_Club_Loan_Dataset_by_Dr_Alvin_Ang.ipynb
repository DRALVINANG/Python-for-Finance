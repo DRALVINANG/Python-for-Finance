{
  "nbformat": 4,
  "nbformat_minor": 0,
  "metadata": {
    "colab": {
      "name": "Feature Selection on Lending Club Loan Dataset by Dr. Alvin Angipynb",
      "provenance": [],
      "collapsed_sections": [],
      "toc_visible": true
    },
    "kernelspec": {
      "name": "python3",
      "display_name": "Python 3"
    },
    "language_info": {
      "name": "python"
    }
  },
  "cells": [
    {
      "cell_type": "markdown",
      "source": [
        "#Step 1: Reading in the Data"
      ],
      "metadata": {
        "id": "mK9M7ojaxNYx"
      }
    },
    {
      "cell_type": "markdown",
      "source": [
        "##1a) Import All Libraries"
      ],
      "metadata": {
        "id": "mQGG-Eb6xq-Q"
      }
    },
    {
      "cell_type": "code",
      "execution_count": 224,
      "metadata": {
        "id": "CpHlKObIwDiJ"
      },
      "outputs": [],
      "source": [
        "import numpy as np\n",
        "import scipy as sp\n",
        "import pandas as pd\n",
        "import matplotlib as mpl\n",
        "import matplotlib.pyplot as plt\n",
        "import seaborn as sns"
      ]
    },
    {
      "cell_type": "markdown",
      "source": [
        "##1b) Setting Up Options"
      ],
      "metadata": {
        "id": "EsS8cxsrx6D1"
      }
    },
    {
      "cell_type": "code",
      "source": [
        "#Pandas Options\n",
        "pd.set_option('display.max_colwidth', 1000,\n",
        "              'display.max_rows', None,\n",
        "              'display.max_columns', None)\n",
        "#preventing the dataframe frrom displaying\n",
        "#too long a column by setting the\n",
        "#max_colwidth to 1000\n",
        "\n",
        "#Plotting Options\n",
        "%matplotlib inline\n",
        "mpl.style.use('ggplot')\n",
        "sns.set(style='whitegrid')"
      ],
      "metadata": {
        "id": "tyZqA1rVx-n5"
      },
      "execution_count": 225,
      "outputs": []
    },
    {
      "cell_type": "markdown",
      "source": [
        "##1c) Browsing the Columns"
      ],
      "metadata": {
        "id": "cG4zNjBg2OAK"
      }
    },
    {
      "cell_type": "code",
      "source": [
        "loans = pd.read_csv('https://www.alvinang.sg/s/LendingClubLoan200-rows.csv')"
      ],
      "metadata": {
        "id": "4QiYvoTU2RPS"
      },
      "execution_count": 226,
      "outputs": []
    },
    {
      "cell_type": "code",
      "source": [
        "loans.info()\n",
        "\n",
        "#there are 73 columns! TOO MANY!"
      ],
      "metadata": {
        "colab": {
          "base_uri": "https://localhost:8080/"
        },
        "id": "ClZvEnrW2d39",
        "outputId": "bbb8813d-ebe6-4e95-c381-0e3ae21bc86d"
      },
      "execution_count": 227,
      "outputs": [
        {
          "output_type": "stream",
          "name": "stdout",
          "text": [
            "<class 'pandas.core.frame.DataFrame'>\n",
            "RangeIndex: 199 entries, 0 to 198\n",
            "Data columns (total 74 columns):\n",
            " #   Column                       Non-Null Count  Dtype  \n",
            "---  ------                       --------------  -----  \n",
            " 0   id                           199 non-null    int64  \n",
            " 1   member_id                    199 non-null    int64  \n",
            " 2   loan_amnt                    199 non-null    int64  \n",
            " 3   funded_amnt                  199 non-null    int64  \n",
            " 4   funded_amnt_inv              199 non-null    float64\n",
            " 5   term                         199 non-null    object \n",
            " 6   int_rate                     199 non-null    float64\n",
            " 7   installment                  199 non-null    float64\n",
            " 8   grade                        199 non-null    object \n",
            " 9   sub_grade                    199 non-null    object \n",
            " 10  emp_title                    190 non-null    object \n",
            " 11  emp_length                   198 non-null    object \n",
            " 12  home_ownership               199 non-null    object \n",
            " 13  annual_inc                   199 non-null    float64\n",
            " 14  verification_status          199 non-null    object \n",
            " 15  issue_d                      199 non-null    object \n",
            " 16  loan_status                  199 non-null    object \n",
            " 17  pymnt_plan                   199 non-null    object \n",
            " 18  url                          199 non-null    object \n",
            " 19  desc                         129 non-null    object \n",
            " 20  purpose                      199 non-null    object \n",
            " 21  title                        199 non-null    object \n",
            " 22  zip_code                     199 non-null    object \n",
            " 23  addr_state                   199 non-null    object \n",
            " 24  dti                          199 non-null    object \n",
            " 25  delinq_2yrs                  199 non-null    float64\n",
            " 26  earliest_cr_line             199 non-null    object \n",
            " 27  inq_last_6mths               199 non-null    object \n",
            " 28  mths_since_last_delinq       47 non-null     float64\n",
            " 29  mths_since_last_record       5 non-null      float64\n",
            " 30  open_acc                     198 non-null    float64\n",
            " 31  pub_rec                      199 non-null    int64  \n",
            " 32  revol_bal                    199 non-null    int64  \n",
            " 33  revol_util                   199 non-null    float64\n",
            " 34  total_acc                    199 non-null    float64\n",
            " 35  initial_list_status          199 non-null    object \n",
            " 36  out_prncp                    199 non-null    object \n",
            " 37  out_prncp_inv                199 non-null    float64\n",
            " 38  total_pymnt                  199 non-null    float64\n",
            " 39  total_pymnt_inv              199 non-null    float64\n",
            " 40  total_rec_prncp              199 non-null    float64\n",
            " 41  total_rec_int                199 non-null    float64\n",
            " 42  total_rec_late_fee           199 non-null    float64\n",
            " 43  recoveries                   199 non-null    float64\n",
            " 44  collection_recovery_fee      199 non-null    float64\n",
            " 45  last_pymnt_d                 198 non-null    object \n",
            " 46  last_pymnt_amnt              199 non-null    object \n",
            " 47  next_pymnt_d                 14 non-null     object \n",
            " 48  last_credit_pull_d           198 non-null    object \n",
            " 49  collections_12_mths_ex_med   199 non-null    object \n",
            " 50  mths_since_last_major_derog  1 non-null      float64\n",
            " 51  policy_code                  198 non-null    float64\n",
            " 52  application_type             199 non-null    object \n",
            " 53  annual_inc_joint             1 non-null      object \n",
            " 54  dti_joint                    0 non-null      float64\n",
            " 55  verification_status_joint    0 non-null      float64\n",
            " 56  acc_now_delinq               198 non-null    float64\n",
            " 57  tot_coll_amt                 1 non-null      float64\n",
            " 58  tot_cur_bal                  0 non-null      float64\n",
            " 59  open_acc_6m                  0 non-null      float64\n",
            " 60  open_il_6m                   0 non-null      float64\n",
            " 61  open_il_12m                  0 non-null      float64\n",
            " 62  open_il_24m                  0 non-null      float64\n",
            " 63  mths_since_rcnt_il           0 non-null      float64\n",
            " 64  total_bal_il                 0 non-null      float64\n",
            " 65  il_util                      0 non-null      float64\n",
            " 66  open_rv_12m                  0 non-null      float64\n",
            " 67  open_rv_24m                  0 non-null      float64\n",
            " 68  max_bal_bc                   0 non-null      float64\n",
            " 69  all_util                     0 non-null      float64\n",
            " 70  total_rev_hi_lim             0 non-null      float64\n",
            " 71  inq_fi                       0 non-null      float64\n",
            " 72  total_cu_tl                  0 non-null      float64\n",
            " 73  inq_last_12m                 0 non-null      float64\n",
            "dtypes: float64(40), int64(6), object(28)\n",
            "memory usage: 115.2+ KB\n"
          ]
        }
      ]
    },
    {
      "cell_type": "markdown",
      "source": [
        "\n",
        "\n",
        "---\n",
        "\n"
      ],
      "metadata": {
        "id": "_5oYLeSzH7CZ"
      }
    },
    {
      "cell_type": "markdown",
      "source": [
        "#Step 2: Ridding Columns that have too many NaNs"
      ],
      "metadata": {
        "id": "vKesJR1z2syE"
      }
    },
    {
      "cell_type": "markdown",
      "source": [
        "##2a) Creating the Missing Fractions"
      ],
      "metadata": {
        "id": "tQtM5VAk5AyR"
      }
    },
    {
      "cell_type": "code",
      "source": [
        "missing_fractions = loans.\\\n",
        "                    isnull().\\\n",
        "                    mean().\\\n",
        "                   sort_values(ascending = False)"
      ],
      "metadata": {
        "id": "WYDee5dS3A24"
      },
      "execution_count": 228,
      "outputs": []
    },
    {
      "cell_type": "code",
      "source": [
        "missing_fractions\n",
        "#so many rows are pure empty!"
      ],
      "metadata": {
        "colab": {
          "base_uri": "https://localhost:8080/"
        },
        "id": "Z9RqyuPv3hJH",
        "outputId": "39c91a81-9941-40a8-801e-552d68713775"
      },
      "execution_count": 229,
      "outputs": [
        {
          "output_type": "execute_result",
          "data": {
            "text/plain": [
              "inq_last_12m                   1.000000\n",
              "verification_status_joint      1.000000\n",
              "tot_cur_bal                    1.000000\n",
              "open_acc_6m                    1.000000\n",
              "open_il_6m                     1.000000\n",
              "open_il_12m                    1.000000\n",
              "open_il_24m                    1.000000\n",
              "mths_since_rcnt_il             1.000000\n",
              "total_bal_il                   1.000000\n",
              "dti_joint                      1.000000\n",
              "il_util                        1.000000\n",
              "open_rv_12m                    1.000000\n",
              "open_rv_24m                    1.000000\n",
              "max_bal_bc                     1.000000\n",
              "all_util                       1.000000\n",
              "total_rev_hi_lim               1.000000\n",
              "inq_fi                         1.000000\n",
              "total_cu_tl                    1.000000\n",
              "annual_inc_joint               0.994975\n",
              "mths_since_last_major_derog    0.994975\n",
              "tot_coll_amt                   0.994975\n",
              "mths_since_last_record         0.974874\n",
              "next_pymnt_d                   0.929648\n",
              "mths_since_last_delinq         0.763819\n",
              "desc                           0.351759\n",
              "emp_title                      0.045226\n",
              "acc_now_delinq                 0.005025\n",
              "last_pymnt_d                   0.005025\n",
              "last_credit_pull_d             0.005025\n",
              "open_acc                       0.005025\n",
              "policy_code                    0.005025\n",
              "emp_length                     0.005025\n",
              "total_rec_prncp                0.000000\n",
              "collections_12_mths_ex_med     0.000000\n",
              "application_type               0.000000\n",
              "last_pymnt_amnt                0.000000\n",
              "collection_recovery_fee        0.000000\n",
              "recoveries                     0.000000\n",
              "total_rec_late_fee             0.000000\n",
              "total_rec_int                  0.000000\n",
              "id                             0.000000\n",
              "total_pymnt_inv                0.000000\n",
              "url                            0.000000\n",
              "loan_amnt                      0.000000\n",
              "funded_amnt                    0.000000\n",
              "funded_amnt_inv                0.000000\n",
              "term                           0.000000\n",
              "int_rate                       0.000000\n",
              "installment                    0.000000\n",
              "grade                          0.000000\n",
              "sub_grade                      0.000000\n",
              "home_ownership                 0.000000\n",
              "annual_inc                     0.000000\n",
              "verification_status            0.000000\n",
              "issue_d                        0.000000\n",
              "loan_status                    0.000000\n",
              "pymnt_plan                     0.000000\n",
              "purpose                        0.000000\n",
              "total_pymnt                    0.000000\n",
              "title                          0.000000\n",
              "zip_code                       0.000000\n",
              "addr_state                     0.000000\n",
              "dti                            0.000000\n",
              "delinq_2yrs                    0.000000\n",
              "earliest_cr_line               0.000000\n",
              "inq_last_6mths                 0.000000\n",
              "pub_rec                        0.000000\n",
              "revol_bal                      0.000000\n",
              "revol_util                     0.000000\n",
              "total_acc                      0.000000\n",
              "initial_list_status            0.000000\n",
              "out_prncp                      0.000000\n",
              "member_id                      0.000000\n",
              "out_prncp_inv                  0.000000\n",
              "dtype: float64"
            ]
          },
          "metadata": {},
          "execution_count": 229
        }
      ]
    },
    {
      "cell_type": "markdown",
      "source": [
        "##2b) Plotting the Missing Fractions"
      ],
      "metadata": {
        "id": "cLwR8mAS5GSV"
      }
    },
    {
      "cell_type": "code",
      "source": [
        "plt.figure(figsize=(6,3), dpi=90)\n",
        "missing_fractions.plot.hist(bins=20)\n",
        "plt.title('Histogram of Feature Incompleteness')\n",
        "plt.xlabel('Fraction of data missing')\n",
        "plt.ylabel('Feature Count')"
      ],
      "metadata": {
        "colab": {
          "base_uri": "https://localhost:8080/",
          "height": 321
        },
        "id": "aNRDZpKk4Tnr",
        "outputId": "2076c4b9-8292-4c71-f21d-f555e99908d3"
      },
      "execution_count": 230,
      "outputs": [
        {
          "output_type": "execute_result",
          "data": {
            "text/plain": [
              "Text(0, 0.5, 'Feature Count')"
            ]
          },
          "metadata": {},
          "execution_count": 230
        },
        {
          "output_type": "display_data",
          "data": {
            "text/plain": [
              "<Figure size 540x270 with 1 Axes>"
            ],
            "image/png": "[encoded data removed]"
          },
          "metadata": {}
        }
      ]
    },
    {
      "cell_type": "markdown",
      "source": [
        "we see that close to 50 columns are filled with values whlie about 20+ columns have almost 100% NaNs (which means that are literally empty!)"
      ],
      "metadata": {
        "id": "oCfffBvD4p7H"
      }
    },
    {
      "cell_type": "markdown",
      "source": [
        "##2c) Creating the Drop List"
      ],
      "metadata": {
        "id": "19B5KPV748s0"
      }
    },
    {
      "cell_type": "code",
      "source": [
        "drop_list = sorted(list(\n",
        "    missing_fractions[missing_fractions > 0.3].\n",
        "    index))"
      ],
      "metadata": {
        "id": "tVi7Bdvj47i5"
      },
      "execution_count": 231,
      "outputs": []
    },
    {
      "cell_type": "code",
      "source": [
        "import cmd\n",
        "cli = cmd.Cmd()\n",
        "cli.columnize(drop_list, displaywidth = 10)"
      ],
      "metadata": {
        "colab": {
          "base_uri": "https://localhost:8080/"
        },
        "id": "nfQtQFH061zP",
        "outputId": "908eeb5b-c289-422c-f474-e11529b440c0"
      },
      "execution_count": 232,
      "outputs": [
        {
          "output_type": "stream",
          "name": "stdout",
          "text": [
            "all_util\n",
            "annual_inc_joint\n",
            "desc\n",
            "dti_joint\n",
            "il_util\n",
            "inq_fi\n",
            "inq_last_12m\n",
            "max_bal_bc\n",
            "mths_since_last_delinq\n",
            "mths_since_last_major_derog\n",
            "mths_since_last_record\n",
            "mths_since_rcnt_il\n",
            "next_pymnt_d\n",
            "open_acc_6m\n",
            "open_il_12m\n",
            "open_il_24m\n",
            "open_il_6m\n",
            "open_rv_12m\n",
            "open_rv_24m\n",
            "tot_coll_amt\n",
            "tot_cur_bal\n",
            "total_bal_il\n",
            "total_cu_tl\n",
            "total_rev_hi_lim\n",
            "verification_status_joint\n"
          ]
        }
      ]
    },
    {
      "cell_type": "code",
      "source": [
        "len(drop_list)\n",
        "#we need to drop off 25 columns because they have\n",
        "#too many NaNs"
      ],
      "metadata": {
        "colab": {
          "base_uri": "https://localhost:8080/"
        },
        "id": "0ieXgKDu7Yhk",
        "outputId": "10647f1a-4a81-449c-831b-73661081e114"
      },
      "execution_count": 233,
      "outputs": [
        {
          "output_type": "execute_result",
          "data": {
            "text/plain": [
              "25"
            ]
          },
          "metadata": {},
          "execution_count": 233
        }
      ]
    },
    {
      "cell_type": "markdown",
      "source": [
        "##2d) Drop off the Drop List"
      ],
      "metadata": {
        "id": "amkezXHV7j9Q"
      }
    },
    {
      "cell_type": "code",
      "source": [
        "loans.drop(labels=drop_list, \n",
        "           axis = 1, inplace = True)"
      ],
      "metadata": {
        "id": "IfC8SN457ohF"
      },
      "execution_count": 234,
      "outputs": []
    },
    {
      "cell_type": "code",
      "source": [
        "loans.shape\n",
        "#we are left with 49 columns"
      ],
      "metadata": {
        "colab": {
          "base_uri": "https://localhost:8080/"
        },
        "id": "K2SD1WRO7xBo",
        "outputId": "241fe3ea-e1c7-4d49-dc37-840fc1e3c925"
      },
      "execution_count": 235,
      "outputs": [
        {
          "output_type": "execute_result",
          "data": {
            "text/plain": [
              "(199, 49)"
            ]
          },
          "metadata": {},
          "execution_count": 235
        }
      ]
    },
    {
      "cell_type": "markdown",
      "source": [
        "##2e) Show the Remaining Columns"
      ],
      "metadata": {
        "id": "Ho5fg4-w77yx"
      }
    },
    {
      "cell_type": "code",
      "source": [
        "sorted(loans.columns)"
      ],
      "metadata": {
        "colab": {
          "base_uri": "https://localhost:8080/"
        },
        "id": "0wdkNrlyoWLR",
        "outputId": "b9274fc4-6294-44ae-db86-8ae54235a0ce"
      },
      "execution_count": 236,
      "outputs": [
        {
          "output_type": "execute_result",
          "data": {
            "text/plain": [
              "['acc_now_delinq',\n",
              " 'addr_state',\n",
              " 'annual_inc',\n",
              " 'application_type',\n",
              " 'collection_recovery_fee',\n",
              " 'collections_12_mths_ex_med',\n",
              " 'delinq_2yrs',\n",
              " 'dti',\n",
              " 'earliest_cr_line',\n",
              " 'emp_length',\n",
              " 'emp_title',\n",
              " 'funded_amnt',\n",
              " 'funded_amnt_inv',\n",
              " 'grade',\n",
              " 'home_ownership',\n",
              " 'id',\n",
              " 'initial_list_status',\n",
              " 'inq_last_6mths',\n",
              " 'installment',\n",
              " 'int_rate',\n",
              " 'issue_d',\n",
              " 'last_credit_pull_d',\n",
              " 'last_pymnt_amnt',\n",
              " 'last_pymnt_d',\n",
              " 'loan_amnt',\n",
              " 'loan_status',\n",
              " 'member_id',\n",
              " 'open_acc',\n",
              " 'out_prncp',\n",
              " 'out_prncp_inv',\n",
              " 'policy_code',\n",
              " 'pub_rec',\n",
              " 'purpose',\n",
              " 'pymnt_plan',\n",
              " 'recoveries',\n",
              " 'revol_bal',\n",
              " 'revol_util',\n",
              " 'sub_grade',\n",
              " 'term',\n",
              " 'title',\n",
              " 'total_acc',\n",
              " 'total_pymnt',\n",
              " 'total_pymnt_inv',\n",
              " 'total_rec_int',\n",
              " 'total_rec_late_fee',\n",
              " 'total_rec_prncp',\n",
              " 'url',\n",
              " 'verification_status',\n",
              " 'zip_code']"
            ]
          },
          "metadata": {},
          "execution_count": 236
        }
      ]
    },
    {
      "cell_type": "markdown",
      "source": [
        "\n",
        "\n",
        "---\n",
        "\n"
      ],
      "metadata": {
        "id": "seZnpG5qIGgJ"
      }
    },
    {
      "cell_type": "markdown",
      "source": [
        "#Step 3: Selecting Important Columns out of the Remaining Columns"
      ],
      "metadata": {
        "id": "atH3hxXDIHs5"
      }
    },
    {
      "cell_type": "markdown",
      "source": [
        "##3a) Taking a peek at the Lending Club Loan Dictionary"
      ],
      "metadata": {
        "id": "CQ1tNxW5Ieia"
      }
    },
    {
      "cell_type": "code",
      "source": [
        "xls = pd.read_excel('https://www.alvinang.sg/s/LCDataDictionary.xlsx', sheet_name = 'LoanStats', index_col = 'LoanStatNew')"
      ],
      "metadata": {
        "id": "NILhmBx14oFm"
      },
      "execution_count": 237,
      "outputs": []
    },
    {
      "cell_type": "code",
      "source": [
        "xls.loc[['loan_amnt', \n",
        "         'annual_inc', \n",
        "         'collection_recovery_fee', \n",
        "         'dti', \n",
        "         'funded_amnt', \n",
        "         'funded_amnt_inv', \n",
        "         'installment', \n",
        "         'int_rate', \n",
        "         'recoveries', \n",
        "         'revol_bal', \n",
        "         'total_acc', \n",
        "         'total_pymnt', \n",
        "         'total_pymnt_inv', \n",
        "         'total_rec_int', \n",
        "         'total_rec_late_fee', \n",
        "         'total_rec_prncp']]\n",
        "\n",
        "#from the LCL Dictionary, we see the Financial Definitions of the Column Names\n",
        "#we choose the Columns above because we feel that they impact\n",
        "#Loan Amount the most."
      ],
      "metadata": {
        "colab": {
          "base_uri": "https://localhost:8080/",
          "height": 661
        },
        "id": "fa_smWrxE4n5",
        "outputId": "95fc8edf-4f5d-4898-96e5-9c04cedbb4be"
      },
      "execution_count": 238,
      "outputs": [
        {
          "output_type": "execute_result",
          "data": {
            "text/plain": [
              "                                                                                                                                                                                                                      Description\n",
              "LoanStatNew                                                                                                                                                                                                                      \n",
              "loan_amnt                                            The listed amount of the loan applied for by the borrower. If at some point in time, the credit department reduces the loan amount, then it will be reflected in this value.\n",
              "annual_inc                                                                                                                                          The self-reported annual income provided by the borrower during registration.\n",
              "collection_recovery_fee                                                                                                                                                                            post charge off collection fee\n",
              "dti                      A ratio calculated using the borrower’s total monthly debt payments on the total debt obligations, excluding mortgage and the requested LC loan, divided by the borrower’s self-reported monthly income.\n",
              "funded_amnt                                                                                                                                                        The total amount committed to that loan at that point in time.\n",
              "funded_amnt_inv                                                                                                                                      The total amount committed by investors for that loan at that point in time.\n",
              "installment                                                                                                                                                      The monthly payment owed by the borrower if the loan originates.\n",
              "int_rate                                                                                                                                                                                                Interest Rate on the loan\n",
              "recoveries                                                                                                                                                                                         post charge off gross recovery\n",
              "revol_bal                                                                                                                                                                                          Total credit revolving balance\n",
              "total_acc                                                                                                                                                The total number of credit lines currently in the borrower's credit file\n",
              "total_pymnt                                                                                                                                                                     Payments received to date for total amount funded\n",
              "total_pymnt_inv                                                                                                                                         Payments received to date for portion of total amount funded by investors\n",
              "total_rec_int                                                                                                                                                                                           Interest received to date\n",
              "total_rec_late_fee                                                                                                                                                                                     Late fees received to date\n",
              "total_rec_prncp                                                                                                                                                                                        Principal received to date"
            ],
            "text/html": [
              "\n",
              "  <div id=\"df-9cb80048-9c92-4888-878f-b02ffb546dfb\">\n",
              "    <div class=\"colab-df-container\">\n",
              "      <div>\n",
              "<style scoped>\n",
              "    .dataframe tbody tr th:only-of-type {\n",
              "        vertical-align: middle;\n",
              "    }\n",
              "\n",
              "    .dataframe tbody tr th {\n",
              "        vertical-align: top;\n",
              "    }\n",
              "\n",
              "    .dataframe thead th {\n",
              "        text-align: right;\n",
              "    }\n",
              "</style>\n",
              "<table border=\"1\" class=\"dataframe\">\n",
              "  <thead>\n",
              "    <tr style=\"text-align: right;\">\n",
              "      <th></th>\n",
              "      <th>Description</th>\n",
              "    </tr>\n",
              "    <tr>\n",
              "      <th>LoanStatNew</th>\n",
              "      <th></th>\n",
              "    </tr>\n",
              "  </thead>\n",
              "  <tbody>\n",
              "    <tr>\n",
              "      <th>loan_amnt</th>\n",
              "      <td>The listed amount of the loan applied for by the borrower. If at some point in time, the credit department reduces the loan amount, then it will be reflected in this value.</td>\n",
              "    </tr>\n",
              "    <tr>\n",
              "      <th>annual_inc</th>\n",
              "      <td>The self-reported annual income provided by the borrower during registration.</td>\n",
              "    </tr>\n",
              "    <tr>\n",
              "      <th>collection_recovery_fee</th>\n",
              "      <td>post charge off collection fee</td>\n",
              "    </tr>\n",
              "    <tr>\n",
              "      <th>dti</th>\n",
              "      <td>A ratio calculated using the borrower’s total monthly debt payments on the total debt obligations, excluding mortgage and the requested LC loan, divided by the borrower’s self-reported monthly income.</td>\n",
              "    </tr>\n",
              "    <tr>\n",
              "      <th>funded_amnt</th>\n",
              "      <td>The total amount committed to that loan at that point in time.</td>\n",
              "    </tr>\n",
              "    <tr>\n",
              "      <th>funded_amnt_inv</th>\n",
              "      <td>The total amount committed by investors for that loan at that point in time.</td>\n",
              "    </tr>\n",
              "    <tr>\n",
              "      <th>installment</th>\n",
              "      <td>The monthly payment owed by the borrower if the loan originates.</td>\n",
              "    </tr>\n",
              "    <tr>\n",
              "      <th>int_rate</th>\n",
              "      <td>Interest Rate on the loan</td>\n",
              "    </tr>\n",
              "    <tr>\n",
              "      <th>recoveries</th>\n",
              "      <td>post charge off gross recovery</td>\n",
              "    </tr>\n",
              "    <tr>\n",
              "      <th>revol_bal</th>\n",
              "      <td>Total credit revolving balance</td>\n",
              "    </tr>\n",
              "    <tr>\n",
              "      <th>total_acc</th>\n",
              "      <td>The total number of credit lines currently in the borrower's credit file</td>\n",
              "    </tr>\n",
              "    <tr>\n",
              "      <th>total_pymnt</th>\n",
              "      <td>Payments received to date for total amount funded</td>\n",
              "    </tr>\n",
              "    <tr>\n",
              "      <th>total_pymnt_inv</th>\n",
              "      <td>Payments received to date for portion of total amount funded by investors</td>\n",
              "    </tr>\n",
              "    <tr>\n",
              "      <th>total_rec_int</th>\n",
              "      <td>Interest received to date</td>\n",
              "    </tr>\n",
              "    <tr>\n",
              "      <th>total_rec_late_fee</th>\n",
              "      <td>Late fees received to date</td>\n",
              "    </tr>\n",
              "    <tr>\n",
              "      <th>total_rec_prncp</th>\n",
              "      <td>Principal received to date</td>\n",
              "    </tr>\n",
              "  </tbody>\n",
              "</table>\n",
              "</div>\n",
              "      <button class=\"colab-df-convert\" onclick=\"convertToInteractive('df-9cb80048-9c92-4888-878f-b02ffb546dfb')\"\n",
              "              title=\"Convert this dataframe to an interactive table.\"\n",
              "              style=\"display:none;\">\n",
              "        \n",
              "  <svg xmlns=\"http://www.w3.org/2000/svg\" height=\"24px\"viewBox=\"0 0 24 24\"\n",
              "       width=\"24px\">\n",
              "    <path d=\"M0 0h24v24H0V0z\" fill=\"none\"/>\n",
              "    <path d=\"M18.56 5.44l.94 2.06.94-2.06 2.06-.94-2.06-.94-.94-2.06-.94 2.06-2.06.94zm-11 1L8.5 8.5l.94-2.06 2.06-.94-2.06-.94L8.5 2.5l-.94 2.06-2.06.94zm10 10l.94 2.06.94-2.06 2.06-.94-2.06-.94-.94-2.06-.94 2.06-2.06.94z\"/><path d=\"M17.41 7.96l-1.37-1.37c-.4-.4-.92-.59-1.43-.59-.52 0-1.04.2-1.43.59L10.3 9.45l-7.72 7.72c-.78.78-.78 2.05 0 2.83L4 21.41c.39.39.9.59 1.41.59.51 0 1.02-.2 1.41-.59l7.78-7.78 2.81-2.81c.8-.78.8-2.07 0-2.86zM5.41 20L4 18.59l7.72-7.72 1.47 1.35L5.41 20z\"/>\n",
              "  </svg>\n",
              "      </button>\n",
              "      \n",
              "  <style>\n",
              "    .colab-df-container {\n",
              "      display:flex;\n",
              "      flex-wrap:wrap;\n",
              "      gap: 12px;\n",
              "    }\n",
              "\n",
              "    .colab-df-convert {\n",
              "      background-color: #E8F0FE;\n",
              "      border: none;\n",
              "      border-radius: 50%;\n",
              "      cursor: pointer;\n",
              "      display: none;\n",
              "      fill: #1967D2;\n",
              "      height: 32px;\n",
              "      padding: 0 0 0 0;\n",
              "      width: 32px;\n",
              "    }\n",
              "\n",
              "    .colab-df-convert:hover {\n",
              "      background-color: #E2EBFA;\n",
              "      box-shadow: 0px 1px 2px rgba(60, 64, 67, 0.3), 0px 1px 3px 1px rgba(60, 64, 67, 0.15);\n",
              "      fill: #174EA6;\n",
              "    }\n",
              "\n",
              "    [theme=dark] .colab-df-convert {\n",
              "      background-color: #3B4455;\n",
              "      fill: #D2E3FC;\n",
              "    }\n",
              "\n",
              "    [theme=dark] .colab-df-convert:hover {\n",
              "      background-color: #434B5C;\n",
              "      box-shadow: 0px 1px 3px 1px rgba(0, 0, 0, 0.15);\n",
              "      filter: drop-shadow(0px 1px 2px rgba(0, 0, 0, 0.3));\n",
              "      fill: #FFFFFF;\n",
              "    }\n",
              "  </style>\n",
              "\n",
              "      <script>\n",
              "        const buttonEl =\n",
              "          document.querySelector('#df-9cb80048-9c92-4888-878f-b02ffb546dfb button.colab-df-convert');\n",
              "        buttonEl.style.display =\n",
              "          google.colab.kernel.accessAllowed ? 'block' : 'none';\n",
              "\n",
              "        async function convertToInteractive(key) {\n",
              "          const element = document.querySelector('#df-9cb80048-9c92-4888-878f-b02ffb546dfb');\n",
              "          const dataTable =\n",
              "            await google.colab.kernel.invokeFunction('convertToInteractive',\n",
              "                                                     [key], {});\n",
              "          if (!dataTable) return;\n",
              "\n",
              "          const docLinkHtml = 'Like what you see? Visit the ' +\n",
              "            '<a target=\"_blank\" href=https://colab.research.google.com/notebooks/data_table.ipynb>data table notebook</a>'\n",
              "            + ' to learn more about interactive tables.';\n",
              "          element.innerHTML = '';\n",
              "          dataTable['output_type'] = 'display_data';\n",
              "          await google.colab.output.renderOutput(dataTable, element);\n",
              "          const docLink = document.createElement('div');\n",
              "          docLink.innerHTML = docLinkHtml;\n",
              "          element.appendChild(docLink);\n",
              "        }\n",
              "      </script>\n",
              "    </div>\n",
              "  </div>\n",
              "  "
            ]
          },
          "metadata": {},
          "execution_count": 238
        }
      ]
    },
    {
      "cell_type": "markdown",
      "source": [
        "##3b) Creating a New Keep List"
      ],
      "metadata": {
        "id": "p3KDXbA-JL_4"
      }
    },
    {
      "cell_type": "code",
      "source": [
        "keep_list = ['loan_amnt', \n",
        "             'annual_inc', \n",
        "             'collection_recovery_fee', \n",
        "             'dti', \n",
        "             'funded_amnt', \n",
        "             'funded_amnt_inv', \n",
        "             'installment', \n",
        "             'int_rate', \n",
        "             'recoveries', \n",
        "             'revol_bal', \n",
        "             'total_acc', \n",
        "             'total_pymnt', \n",
        "             'total_pymnt_inv', \n",
        "             'total_rec_int', \n",
        "             'total_rec_late_fee', \n",
        "             'total_rec_prncp']\n",
        "\n",
        "len(keep_list)\n",
        "#we will keep 16 columns out of the 49 remaining"
      ],
      "metadata": {
        "colab": {
          "base_uri": "https://localhost:8080/"
        },
        "id": "3t2-N6eSGOgG",
        "outputId": "86a12a5e-b00c-42e9-fac8-71545f36bcc8"
      },
      "execution_count": 239,
      "outputs": [
        {
          "output_type": "execute_result",
          "data": {
            "text/plain": [
              "16"
            ]
          },
          "metadata": {},
          "execution_count": 239
        }
      ]
    },
    {
      "cell_type": "markdown",
      "source": [
        "##3c) Drop Off the Unimportant  / Unwanted Columns"
      ],
      "metadata": {
        "id": "s3nsd33iKLxj"
      }
    },
    {
      "cell_type": "code",
      "source": [
        "new_drop_list = [col for col in loans.columns if col not in keep_list]"
      ],
      "metadata": {
        "id": "jC3B_R1dGa_H"
      },
      "execution_count": 240,
      "outputs": []
    },
    {
      "cell_type": "code",
      "source": [
        "len(new_drop_list)\n",
        "#we want to drop off 33 columns"
      ],
      "metadata": {
        "colab": {
          "base_uri": "https://localhost:8080/"
        },
        "id": "FpALaAtZGn5n",
        "outputId": "99e1617e-faec-457f-aca7-14c800e2c044"
      },
      "execution_count": 241,
      "outputs": [
        {
          "output_type": "execute_result",
          "data": {
            "text/plain": [
              "33"
            ]
          },
          "metadata": {},
          "execution_count": 241
        }
      ]
    },
    {
      "cell_type": "code",
      "source": [
        "loans.drop(labels=new_drop_list, axis = 1, inplace = True)"
      ],
      "metadata": {
        "id": "IR3kkFlrG3ru"
      },
      "execution_count": 242,
      "outputs": []
    },
    {
      "cell_type": "code",
      "source": [
        "sorted(loans.columns)\n",
        "#this is what we have left after dropping 33 unwanted columns"
      ],
      "metadata": {
        "colab": {
          "base_uri": "https://localhost:8080/"
        },
        "id": "mb5HCkTJHfVB",
        "outputId": "fa11be6b-5e20-4afe-a348-430883c61b83"
      },
      "execution_count": 243,
      "outputs": [
        {
          "output_type": "execute_result",
          "data": {
            "text/plain": [
              "['annual_inc',\n",
              " 'collection_recovery_fee',\n",
              " 'dti',\n",
              " 'funded_amnt',\n",
              " 'funded_amnt_inv',\n",
              " 'installment',\n",
              " 'int_rate',\n",
              " 'loan_amnt',\n",
              " 'recoveries',\n",
              " 'revol_bal',\n",
              " 'total_acc',\n",
              " 'total_pymnt',\n",
              " 'total_pymnt_inv',\n",
              " 'total_rec_int',\n",
              " 'total_rec_late_fee',\n",
              " 'total_rec_prncp']"
            ]
          },
          "metadata": {},
          "execution_count": 243
        }
      ]
    },
    {
      "cell_type": "code",
      "source": [
        "loans.shape\n",
        "#we obtain our 16 Wanted columns"
      ],
      "metadata": {
        "colab": {
          "base_uri": "https://localhost:8080/"
        },
        "id": "-ffqdP-QHcEl",
        "outputId": "02081492-9440-473d-e9a4-7adc29f79122"
      },
      "execution_count": 244,
      "outputs": [
        {
          "output_type": "execute_result",
          "data": {
            "text/plain": [
              "(199, 16)"
            ]
          },
          "metadata": {},
          "execution_count": 244
        }
      ]
    },
    {
      "cell_type": "markdown",
      "source": [
        "\n",
        "\n",
        "---\n",
        "\n"
      ],
      "metadata": {
        "id": "mehNGU1UIFP6"
      }
    },
    {
      "cell_type": "markdown",
      "source": [
        "#Step 4: Find the TOP 5 Important Features using Random Forest Classifier"
      ],
      "metadata": {
        "id": "C2sWztTvob9C"
      }
    },
    {
      "cell_type": "code",
      "source": [
        "X = loans[['annual_inc', \n",
        "         'collection_recovery_fee', \n",
        "         'dti', \n",
        "         'funded_amnt', \n",
        "         'funded_amnt_inv', \n",
        "         'installment', \n",
        "         'int_rate', \n",
        "         'recoveries', \n",
        "         'revol_bal', \n",
        "         'total_acc', \n",
        "         'total_pymnt', \n",
        "         'total_pymnt_inv', \n",
        "         'total_rec_int', \n",
        "         'total_rec_late_fee', \n",
        "         'total_rec_prncp']]\n",
        "\n",
        "#we take all our wanted 15 columns but we leave out\n",
        "#'loan_amnt' because that belongs to y"
      ],
      "metadata": {
        "id": "24-La5ZMorV8"
      },
      "execution_count": 245,
      "outputs": []
    },
    {
      "cell_type": "code",
      "source": [
        "X_index = pd.DataFrame (X.columns)"
      ],
      "metadata": {
        "id": "rNA8Ur6ehawr"
      },
      "execution_count": 246,
      "outputs": []
    },
    {
      "cell_type": "code",
      "source": [
        "X_index"
      ],
      "metadata": {
        "colab": {
          "base_uri": "https://localhost:8080/",
          "height": 520
        },
        "id": "SKu3NL9nhq8Z",
        "outputId": "465529a6-a90c-40bc-82c9-ef0de0845bf3"
      },
      "execution_count": 247,
      "outputs": [
        {
          "output_type": "execute_result",
          "data": {
            "text/plain": [
              "                          0\n",
              "0                annual_inc\n",
              "1   collection_recovery_fee\n",
              "2                       dti\n",
              "3               funded_amnt\n",
              "4           funded_amnt_inv\n",
              "5               installment\n",
              "6                  int_rate\n",
              "7                recoveries\n",
              "8                 revol_bal\n",
              "9                 total_acc\n",
              "10              total_pymnt\n",
              "11          total_pymnt_inv\n",
              "12            total_rec_int\n",
              "13       total_rec_late_fee\n",
              "14          total_rec_prncp"
            ],
            "text/html": [
              "\n",
              "  <div id=\"df-d0661e65-6625-4cc4-994c-d8edb69527aa\">\n",
              "    <div class=\"colab-df-container\">\n",
              "      <div>\n",
              "<style scoped>\n",
              "    .dataframe tbody tr th:only-of-type {\n",
              "        vertical-align: middle;\n",
              "    }\n",
              "\n",
              "    .dataframe tbody tr th {\n",
              "        vertical-align: top;\n",
              "    }\n",
              "\n",
              "    .dataframe thead th {\n",
              "        text-align: right;\n",
              "    }\n",
              "</style>\n",
              "<table border=\"1\" class=\"dataframe\">\n",
              "  <thead>\n",
              "    <tr style=\"text-align: right;\">\n",
              "      <th></th>\n",
              "      <th>0</th>\n",
              "    </tr>\n",
              "  </thead>\n",
              "  <tbody>\n",
              "    <tr>\n",
              "      <th>0</th>\n",
              "      <td>annual_inc</td>\n",
              "    </tr>\n",
              "    <tr>\n",
              "      <th>1</th>\n",
              "      <td>collection_recovery_fee</td>\n",
              "    </tr>\n",
              "    <tr>\n",
              "      <th>2</th>\n",
              "      <td>dti</td>\n",
              "    </tr>\n",
              "    <tr>\n",
              "      <th>3</th>\n",
              "      <td>funded_amnt</td>\n",
              "    </tr>\n",
              "    <tr>\n",
              "      <th>4</th>\n",
              "      <td>funded_amnt_inv</td>\n",
              "    </tr>\n",
              "    <tr>\n",
              "      <th>5</th>\n",
              "      <td>installment</td>\n",
              "    </tr>\n",
              "    <tr>\n",
              "      <th>6</th>\n",
              "      <td>int_rate</td>\n",
              "    </tr>\n",
              "    <tr>\n",
              "      <th>7</th>\n",
              "      <td>recoveries</td>\n",
              "    </tr>\n",
              "    <tr>\n",
              "      <th>8</th>\n",
              "      <td>revol_bal</td>\n",
              "    </tr>\n",
              "    <tr>\n",
              "      <th>9</th>\n",
              "      <td>total_acc</td>\n",
              "    </tr>\n",
              "    <tr>\n",
              "      <th>10</th>\n",
              "      <td>total_pymnt</td>\n",
              "    </tr>\n",
              "    <tr>\n",
              "      <th>11</th>\n",
              "      <td>total_pymnt_inv</td>\n",
              "    </tr>\n",
              "    <tr>\n",
              "      <th>12</th>\n",
              "      <td>total_rec_int</td>\n",
              "    </tr>\n",
              "    <tr>\n",
              "      <th>13</th>\n",
              "      <td>total_rec_late_fee</td>\n",
              "    </tr>\n",
              "    <tr>\n",
              "      <th>14</th>\n",
              "      <td>total_rec_prncp</td>\n",
              "    </tr>\n",
              "  </tbody>\n",
              "</table>\n",
              "</div>\n",
              "      <button class=\"colab-df-convert\" onclick=\"convertToInteractive('df-d0661e65-6625-4cc4-994c-d8edb69527aa')\"\n",
              "              title=\"Convert this dataframe to an interactive table.\"\n",
              "              style=\"display:none;\">\n",
              "        \n",
              "  <svg xmlns=\"http://www.w3.org/2000/svg\" height=\"24px\"viewBox=\"0 0 24 24\"\n",
              "       width=\"24px\">\n",
              "    <path d=\"M0 0h24v24H0V0z\" fill=\"none\"/>\n",
              "    <path d=\"M18.56 5.44l.94 2.06.94-2.06 2.06-.94-2.06-.94-.94-2.06-.94 2.06-2.06.94zm-11 1L8.5 8.5l.94-2.06 2.06-.94-2.06-.94L8.5 2.5l-.94 2.06-2.06.94zm10 10l.94 2.06.94-2.06 2.06-.94-2.06-.94-.94-2.06-.94 2.06-2.06.94z\"/><path d=\"M17.41 7.96l-1.37-1.37c-.4-.4-.92-.59-1.43-.59-.52 0-1.04.2-1.43.59L10.3 9.45l-7.72 7.72c-.78.78-.78 2.05 0 2.83L4 21.41c.39.39.9.59 1.41.59.51 0 1.02-.2 1.41-.59l7.78-7.78 2.81-2.81c.8-.78.8-2.07 0-2.86zM5.41 20L4 18.59l7.72-7.72 1.47 1.35L5.41 20z\"/>\n",
              "  </svg>\n",
              "      </button>\n",
              "      \n",
              "  <style>\n",
              "    .colab-df-container {\n",
              "      display:flex;\n",
              "      flex-wrap:wrap;\n",
              "      gap: 12px;\n",
              "    }\n",
              "\n",
              "    .colab-df-convert {\n",
              "      background-color: #E8F0FE;\n",
              "      border: none;\n",
              "      border-radius: 50%;\n",
              "      cursor: pointer;\n",
              "      display: none;\n",
              "      fill: #1967D2;\n",
              "      height: 32px;\n",
              "      padding: 0 0 0 0;\n",
              "      width: 32px;\n",
              "    }\n",
              "\n",
              "    .colab-df-convert:hover {\n",
              "      background-color: #E2EBFA;\n",
              "      box-shadow: 0px 1px 2px rgba(60, 64, 67, 0.3), 0px 1px 3px 1px rgba(60, 64, 67, 0.15);\n",
              "      fill: #174EA6;\n",
              "    }\n",
              "\n",
              "    [theme=dark] .colab-df-convert {\n",
              "      background-color: #3B4455;\n",
              "      fill: #D2E3FC;\n",
              "    }\n",
              "\n",
              "    [theme=dark] .colab-df-convert:hover {\n",
              "      background-color: #434B5C;\n",
              "      box-shadow: 0px 1px 3px 1px rgba(0, 0, 0, 0.15);\n",
              "      filter: drop-shadow(0px 1px 2px rgba(0, 0, 0, 0.3));\n",
              "      fill: #FFFFFF;\n",
              "    }\n",
              "  </style>\n",
              "\n",
              "      <script>\n",
              "        const buttonEl =\n",
              "          document.querySelector('#df-d0661e65-6625-4cc4-994c-d8edb69527aa button.colab-df-convert');\n",
              "        buttonEl.style.display =\n",
              "          google.colab.kernel.accessAllowed ? 'block' : 'none';\n",
              "\n",
              "        async function convertToInteractive(key) {\n",
              "          const element = document.querySelector('#df-d0661e65-6625-4cc4-994c-d8edb69527aa');\n",
              "          const dataTable =\n",
              "            await google.colab.kernel.invokeFunction('convertToInteractive',\n",
              "                                                     [key], {});\n",
              "          if (!dataTable) return;\n",
              "\n",
              "          const docLinkHtml = 'Like what you see? Visit the ' +\n",
              "            '<a target=\"_blank\" href=https://colab.research.google.com/notebooks/data_table.ipynb>data table notebook</a>'\n",
              "            + ' to learn more about interactive tables.';\n",
              "          element.innerHTML = '';\n",
              "          dataTable['output_type'] = 'display_data';\n",
              "          await google.colab.output.renderOutput(dataTable, element);\n",
              "          const docLink = document.createElement('div');\n",
              "          docLink.innerHTML = docLinkHtml;\n",
              "          element.appendChild(docLink);\n",
              "        }\n",
              "      </script>\n",
              "    </div>\n",
              "  </div>\n",
              "  "
            ]
          },
          "metadata": {},
          "execution_count": 247
        }
      ]
    },
    {
      "cell_type": "code",
      "source": [
        "y = loans['loan_amnt']"
      ],
      "metadata": {
        "id": "V5YvW5wxo3LF"
      },
      "execution_count": 248,
      "outputs": []
    },
    {
      "cell_type": "markdown",
      "source": [
        "##4a) Check that All Columns are of Numeric Type before Feeding into the Classifier"
      ],
      "metadata": {
        "id": "KSGTcYiZY1Fc"
      }
    },
    {
      "cell_type": "code",
      "source": [
        "X.dtypes\n",
        "#we see that the only column of \"string\" type is 'dti'"
      ],
      "metadata": {
        "colab": {
          "base_uri": "https://localhost:8080/"
        },
        "id": "FRow1PK4L6IA",
        "outputId": "6ab2ffd3-fdd7-47aa-fc2f-ff5a639f3d02"
      },
      "execution_count": 249,
      "outputs": [
        {
          "output_type": "execute_result",
          "data": {
            "text/plain": [
              "annual_inc                 float64\n",
              "collection_recovery_fee    float64\n",
              "dti                         object\n",
              "funded_amnt                  int64\n",
              "funded_amnt_inv            float64\n",
              "installment                float64\n",
              "int_rate                   float64\n",
              "recoveries                 float64\n",
              "revol_bal                    int64\n",
              "total_acc                  float64\n",
              "total_pymnt                float64\n",
              "total_pymnt_inv            float64\n",
              "total_rec_int              float64\n",
              "total_rec_late_fee         float64\n",
              "total_rec_prncp            float64\n",
              "dtype: object"
            ]
          },
          "metadata": {},
          "execution_count": 249
        }
      ]
    },
    {
      "cell_type": "code",
      "source": [
        "X['dti'] = X['dti'].astype(float)\n",
        "#we need to convert 'dti' column to 'float' in order to feed the \n",
        "#Random Forest Classifier \n",
        "\n",
        "#however, there seems to an error pop up \n",
        "#where a word 'CA' is found in one of the rows.....\n",
        "#(we dunno which row nor which column!)"
      ],
      "metadata": {
        "colab": {
          "base_uri": "https://localhost:8080/",
          "height": 381
        },
        "id": "u9y4yBNkNDVb",
        "outputId": "464ecdd6-0891-430c-89ba-9da9b0aab44c"
      },
      "execution_count": 250,
      "outputs": [
        {
          "output_type": "error",
          "ename": "ValueError",
          "evalue": "ignored",
          "traceback": [
            "\u001b[0;31m---------------------------------------------------------------------------\u001b[0m",
            "\u001b[0;31mValueError\u001b[0m                                Traceback (most recent call last)",
            "\u001b[0;32m<ipython-input-250-ab220a19c04e>\u001b[0m in \u001b[0;36m<module>\u001b[0;34m()\u001b[0m\n\u001b[0;32m----> 1\u001b[0;31m \u001b[0mX\u001b[0m\u001b[0;34m[\u001b[0m\u001b[0;34m'dti'\u001b[0m\u001b[0;34m]\u001b[0m \u001b[0;34m=\u001b[0m \u001b[0mX\u001b[0m\u001b[0;34m[\u001b[0m\u001b[0;34m'dti'\u001b[0m\u001b[0;34m]\u001b[0m\u001b[0;34m.\u001b[0m\u001b[0mastype\u001b[0m\u001b[0;34m(\u001b[0m\u001b[0mfloat\u001b[0m\u001b[0;34m)\u001b[0m\u001b[0;34m\u001b[0m\u001b[0;34m\u001b[0m\u001b[0m\n\u001b[0m\u001b[1;32m      2\u001b[0m \u001b[0;31m#we need to convert 'dti' column to 'float' in order to feed the\u001b[0m\u001b[0;34m\u001b[0m\u001b[0;34m\u001b[0m\u001b[0;34m\u001b[0m\u001b[0m\n\u001b[1;32m      3\u001b[0m \u001b[0;31m#Random Forest Classifier\u001b[0m\u001b[0;34m\u001b[0m\u001b[0;34m\u001b[0m\u001b[0;34m\u001b[0m\u001b[0m\n\u001b[1;32m      4\u001b[0m \u001b[0;34m\u001b[0m\u001b[0m\n\u001b[1;32m      5\u001b[0m \u001b[0;31m#however, there seems to an error pop up\u001b[0m\u001b[0;34m\u001b[0m\u001b[0;34m\u001b[0m\u001b[0;34m\u001b[0m\u001b[0m\n",
            "\u001b[0;32m/usr/local/lib/python3.7/dist-packages/pandas/core/generic.py\u001b[0m in \u001b[0;36mastype\u001b[0;34m(self, dtype, copy, errors)\u001b[0m\n\u001b[1;32m   5813\u001b[0m         \u001b[0;32melse\u001b[0m\u001b[0;34m:\u001b[0m\u001b[0;34m\u001b[0m\u001b[0;34m\u001b[0m\u001b[0m\n\u001b[1;32m   5814\u001b[0m             \u001b[0;31m# else, only a single dtype is given\u001b[0m\u001b[0;34m\u001b[0m\u001b[0;34m\u001b[0m\u001b[0;34m\u001b[0m\u001b[0m\n\u001b[0;32m-> 5815\u001b[0;31m             \u001b[0mnew_data\u001b[0m \u001b[0;34m=\u001b[0m \u001b[0mself\u001b[0m\u001b[0;34m.\u001b[0m\u001b[0m_mgr\u001b[0m\u001b[0;34m.\u001b[0m\u001b[0mastype\u001b[0m\u001b[0;34m(\u001b[0m\u001b[0mdtype\u001b[0m\u001b[0;34m=\u001b[0m\u001b[0mdtype\u001b[0m\u001b[0;34m,\u001b[0m \u001b[0mcopy\u001b[0m\u001b[0;34m=\u001b[0m\u001b[0mcopy\u001b[0m\u001b[0;34m,\u001b[0m \u001b[0merrors\u001b[0m\u001b[0;34m=\u001b[0m\u001b[0merrors\u001b[0m\u001b[0;34m)\u001b[0m\u001b[0;34m\u001b[0m\u001b[0;34m\u001b[0m\u001b[0m\n\u001b[0m\u001b[1;32m   5816\u001b[0m             \u001b[0;32mreturn\u001b[0m \u001b[0mself\u001b[0m\u001b[0;34m.\u001b[0m\u001b[0m_constructor\u001b[0m\u001b[0;34m(\u001b[0m\u001b[0mnew_data\u001b[0m\u001b[0;34m)\u001b[0m\u001b[0;34m.\u001b[0m\u001b[0m__finalize__\u001b[0m\u001b[0;34m(\u001b[0m\u001b[0mself\u001b[0m\u001b[0;34m,\u001b[0m \u001b[0mmethod\u001b[0m\u001b[0;34m=\u001b[0m\u001b[0;34m\"astype\"\u001b[0m\u001b[0;34m)\u001b[0m\u001b[0;34m\u001b[0m\u001b[0;34m\u001b[0m\u001b[0m\n\u001b[1;32m   5817\u001b[0m \u001b[0;34m\u001b[0m\u001b[0m\n",
            "\u001b[0;32m/usr/local/lib/python3.7/dist-packages/pandas/core/internals/managers.py\u001b[0m in \u001b[0;36mastype\u001b[0;34m(self, dtype, copy, errors)\u001b[0m\n\u001b[1;32m    416\u001b[0m \u001b[0;34m\u001b[0m\u001b[0m\n\u001b[1;32m    417\u001b[0m     \u001b[0;32mdef\u001b[0m \u001b[0mastype\u001b[0m\u001b[0;34m(\u001b[0m\u001b[0mself\u001b[0m\u001b[0;34m:\u001b[0m \u001b[0mT\u001b[0m\u001b[0;34m,\u001b[0m \u001b[0mdtype\u001b[0m\u001b[0;34m,\u001b[0m \u001b[0mcopy\u001b[0m\u001b[0;34m:\u001b[0m \u001b[0mbool\u001b[0m \u001b[0;34m=\u001b[0m \u001b[0;32mFalse\u001b[0m\u001b[0;34m,\u001b[0m \u001b[0merrors\u001b[0m\u001b[0;34m:\u001b[0m \u001b[0mstr\u001b[0m \u001b[0;34m=\u001b[0m \u001b[0;34m\"raise\"\u001b[0m\u001b[0;34m)\u001b[0m \u001b[0;34m->\u001b[0m \u001b[0mT\u001b[0m\u001b[0;34m:\u001b[0m\u001b[0;34m\u001b[0m\u001b[0;34m\u001b[0m\u001b[0m\n\u001b[0;32m--> 418\u001b[0;31m         \u001b[0;32mreturn\u001b[0m \u001b[0mself\u001b[0m\u001b[0;34m.\u001b[0m\u001b[0mapply\u001b[0m\u001b[0;34m(\u001b[0m\u001b[0;34m\"astype\"\u001b[0m\u001b[0;34m,\u001b[0m \u001b[0mdtype\u001b[0m\u001b[0;34m=\u001b[0m\u001b[0mdtype\u001b[0m\u001b[0;34m,\u001b[0m \u001b[0mcopy\u001b[0m\u001b[0;34m=\u001b[0m\u001b[0mcopy\u001b[0m\u001b[0;34m,\u001b[0m \u001b[0merrors\u001b[0m\u001b[0;34m=\u001b[0m\u001b[0merrors\u001b[0m\u001b[0;34m)\u001b[0m\u001b[0;34m\u001b[0m\u001b[0;34m\u001b[0m\u001b[0m\n\u001b[0m\u001b[1;32m    419\u001b[0m \u001b[0;34m\u001b[0m\u001b[0m\n\u001b[1;32m    420\u001b[0m     def convert(\n",
            "\u001b[0;32m/usr/local/lib/python3.7/dist-packages/pandas/core/internals/managers.py\u001b[0m in \u001b[0;36mapply\u001b[0;34m(self, f, align_keys, ignore_failures, **kwargs)\u001b[0m\n\u001b[1;32m    325\u001b[0m                     \u001b[0mapplied\u001b[0m \u001b[0;34m=\u001b[0m \u001b[0mb\u001b[0m\u001b[0;34m.\u001b[0m\u001b[0mapply\u001b[0m\u001b[0;34m(\u001b[0m\u001b[0mf\u001b[0m\u001b[0;34m,\u001b[0m \u001b[0;34m**\u001b[0m\u001b[0mkwargs\u001b[0m\u001b[0;34m)\u001b[0m\u001b[0;34m\u001b[0m\u001b[0;34m\u001b[0m\u001b[0m\n\u001b[1;32m    326\u001b[0m                 \u001b[0;32melse\u001b[0m\u001b[0;34m:\u001b[0m\u001b[0;34m\u001b[0m\u001b[0;34m\u001b[0m\u001b[0m\n\u001b[0;32m--> 327\u001b[0;31m                     \u001b[0mapplied\u001b[0m \u001b[0;34m=\u001b[0m \u001b[0mgetattr\u001b[0m\u001b[0;34m(\u001b[0m\u001b[0mb\u001b[0m\u001b[0;34m,\u001b[0m \u001b[0mf\u001b[0m\u001b[0;34m)\u001b[0m\u001b[0;34m(\u001b[0m\u001b[0;34m**\u001b[0m\u001b[0mkwargs\u001b[0m\u001b[0;34m)\u001b[0m\u001b[0;34m\u001b[0m\u001b[0;34m\u001b[0m\u001b[0m\n\u001b[0m\u001b[1;32m    328\u001b[0m             \u001b[0;32mexcept\u001b[0m \u001b[0;34m(\u001b[0m\u001b[0mTypeError\u001b[0m\u001b[0;34m,\u001b[0m \u001b[0mNotImplementedError\u001b[0m\u001b[0;34m)\u001b[0m\u001b[0;34m:\u001b[0m\u001b[0;34m\u001b[0m\u001b[0;34m\u001b[0m\u001b[0m\n\u001b[1;32m    329\u001b[0m                 \u001b[0;32mif\u001b[0m \u001b[0;32mnot\u001b[0m \u001b[0mignore_failures\u001b[0m\u001b[0;34m:\u001b[0m\u001b[0;34m\u001b[0m\u001b[0;34m\u001b[0m\u001b[0m\n",
            "\u001b[0;32m/usr/local/lib/python3.7/dist-packages/pandas/core/internals/blocks.py\u001b[0m in \u001b[0;36mastype\u001b[0;34m(self, dtype, copy, errors)\u001b[0m\n\u001b[1;32m    589\u001b[0m         \u001b[0mvalues\u001b[0m \u001b[0;34m=\u001b[0m \u001b[0mself\u001b[0m\u001b[0;34m.\u001b[0m\u001b[0mvalues\u001b[0m\u001b[0;34m\u001b[0m\u001b[0;34m\u001b[0m\u001b[0m\n\u001b[1;32m    590\u001b[0m \u001b[0;34m\u001b[0m\u001b[0m\n\u001b[0;32m--> 591\u001b[0;31m         \u001b[0mnew_values\u001b[0m \u001b[0;34m=\u001b[0m \u001b[0mastype_array_safe\u001b[0m\u001b[0;34m(\u001b[0m\u001b[0mvalues\u001b[0m\u001b[0;34m,\u001b[0m \u001b[0mdtype\u001b[0m\u001b[0;34m,\u001b[0m \u001b[0mcopy\u001b[0m\u001b[0;34m=\u001b[0m\u001b[0mcopy\u001b[0m\u001b[0;34m,\u001b[0m \u001b[0merrors\u001b[0m\u001b[0;34m=\u001b[0m\u001b[0merrors\u001b[0m\u001b[0;34m)\u001b[0m\u001b[0;34m\u001b[0m\u001b[0;34m\u001b[0m\u001b[0m\n\u001b[0m\u001b[1;32m    592\u001b[0m \u001b[0;34m\u001b[0m\u001b[0m\n\u001b[1;32m    593\u001b[0m         \u001b[0mnew_values\u001b[0m \u001b[0;34m=\u001b[0m \u001b[0mmaybe_coerce_values\u001b[0m\u001b[0;34m(\u001b[0m\u001b[0mnew_values\u001b[0m\u001b[0;34m)\u001b[0m\u001b[0;34m\u001b[0m\u001b[0;34m\u001b[0m\u001b[0m\n",
            "\u001b[0;32m/usr/local/lib/python3.7/dist-packages/pandas/core/dtypes/cast.py\u001b[0m in \u001b[0;36mastype_array_safe\u001b[0;34m(values, dtype, copy, errors)\u001b[0m\n\u001b[1;32m   1307\u001b[0m \u001b[0;34m\u001b[0m\u001b[0m\n\u001b[1;32m   1308\u001b[0m     \u001b[0;32mtry\u001b[0m\u001b[0;34m:\u001b[0m\u001b[0;34m\u001b[0m\u001b[0;34m\u001b[0m\u001b[0m\n\u001b[0;32m-> 1309\u001b[0;31m         \u001b[0mnew_values\u001b[0m \u001b[0;34m=\u001b[0m \u001b[0mastype_array\u001b[0m\u001b[0;34m(\u001b[0m\u001b[0mvalues\u001b[0m\u001b[0;34m,\u001b[0m \u001b[0mdtype\u001b[0m\u001b[0;34m,\u001b[0m \u001b[0mcopy\u001b[0m\u001b[0;34m=\u001b[0m\u001b[0mcopy\u001b[0m\u001b[0;34m)\u001b[0m\u001b[0;34m\u001b[0m\u001b[0;34m\u001b[0m\u001b[0m\n\u001b[0m\u001b[1;32m   1310\u001b[0m     \u001b[0;32mexcept\u001b[0m \u001b[0;34m(\u001b[0m\u001b[0mValueError\u001b[0m\u001b[0;34m,\u001b[0m \u001b[0mTypeError\u001b[0m\u001b[0;34m)\u001b[0m\u001b[0;34m:\u001b[0m\u001b[0;34m\u001b[0m\u001b[0;34m\u001b[0m\u001b[0m\n\u001b[1;32m   1311\u001b[0m         \u001b[0;31m# e.g. astype_nansafe can fail on object-dtype of strings\u001b[0m\u001b[0;34m\u001b[0m\u001b[0;34m\u001b[0m\u001b[0;34m\u001b[0m\u001b[0m\n",
            "\u001b[0;32m/usr/local/lib/python3.7/dist-packages/pandas/core/dtypes/cast.py\u001b[0m in \u001b[0;36mastype_array\u001b[0;34m(values, dtype, copy)\u001b[0m\n\u001b[1;32m   1255\u001b[0m \u001b[0;34m\u001b[0m\u001b[0m\n\u001b[1;32m   1256\u001b[0m     \u001b[0;32melse\u001b[0m\u001b[0;34m:\u001b[0m\u001b[0;34m\u001b[0m\u001b[0;34m\u001b[0m\u001b[0m\n\u001b[0;32m-> 1257\u001b[0;31m         \u001b[0mvalues\u001b[0m \u001b[0;34m=\u001b[0m \u001b[0mastype_nansafe\u001b[0m\u001b[0;34m(\u001b[0m\u001b[0mvalues\u001b[0m\u001b[0;34m,\u001b[0m \u001b[0mdtype\u001b[0m\u001b[0;34m,\u001b[0m \u001b[0mcopy\u001b[0m\u001b[0;34m=\u001b[0m\u001b[0mcopy\u001b[0m\u001b[0;34m)\u001b[0m\u001b[0;34m\u001b[0m\u001b[0;34m\u001b[0m\u001b[0m\n\u001b[0m\u001b[1;32m   1258\u001b[0m \u001b[0;34m\u001b[0m\u001b[0m\n\u001b[1;32m   1259\u001b[0m     \u001b[0;31m# in pandas we don't store numpy str dtypes, so convert to object\u001b[0m\u001b[0;34m\u001b[0m\u001b[0;34m\u001b[0m\u001b[0;34m\u001b[0m\u001b[0m\n",
            "\u001b[0;32m/usr/local/lib/python3.7/dist-packages/pandas/core/dtypes/cast.py\u001b[0m in \u001b[0;36mastype_nansafe\u001b[0;34m(arr, dtype, copy, skipna)\u001b[0m\n\u001b[1;32m   1199\u001b[0m     \u001b[0;32mif\u001b[0m \u001b[0mcopy\u001b[0m \u001b[0;32mor\u001b[0m \u001b[0mis_object_dtype\u001b[0m\u001b[0;34m(\u001b[0m\u001b[0marr\u001b[0m\u001b[0;34m.\u001b[0m\u001b[0mdtype\u001b[0m\u001b[0;34m)\u001b[0m \u001b[0;32mor\u001b[0m \u001b[0mis_object_dtype\u001b[0m\u001b[0;34m(\u001b[0m\u001b[0mdtype\u001b[0m\u001b[0;34m)\u001b[0m\u001b[0;34m:\u001b[0m\u001b[0;34m\u001b[0m\u001b[0;34m\u001b[0m\u001b[0m\n\u001b[1;32m   1200\u001b[0m         \u001b[0;31m# Explicit copy, or required since NumPy can't view from / to object.\u001b[0m\u001b[0;34m\u001b[0m\u001b[0;34m\u001b[0m\u001b[0;34m\u001b[0m\u001b[0m\n\u001b[0;32m-> 1201\u001b[0;31m         \u001b[0;32mreturn\u001b[0m \u001b[0marr\u001b[0m\u001b[0;34m.\u001b[0m\u001b[0mastype\u001b[0m\u001b[0;34m(\u001b[0m\u001b[0mdtype\u001b[0m\u001b[0;34m,\u001b[0m \u001b[0mcopy\u001b[0m\u001b[0;34m=\u001b[0m\u001b[0;32mTrue\u001b[0m\u001b[0;34m)\u001b[0m\u001b[0;34m\u001b[0m\u001b[0;34m\u001b[0m\u001b[0m\n\u001b[0m\u001b[1;32m   1202\u001b[0m \u001b[0;34m\u001b[0m\u001b[0m\n\u001b[1;32m   1203\u001b[0m     \u001b[0;32mreturn\u001b[0m \u001b[0marr\u001b[0m\u001b[0;34m.\u001b[0m\u001b[0mastype\u001b[0m\u001b[0;34m(\u001b[0m\u001b[0mdtype\u001b[0m\u001b[0;34m,\u001b[0m \u001b[0mcopy\u001b[0m\u001b[0;34m=\u001b[0m\u001b[0mcopy\u001b[0m\u001b[0;34m)\u001b[0m\u001b[0;34m\u001b[0m\u001b[0;34m\u001b[0m\u001b[0m\n",
            "\u001b[0;31mValueError\u001b[0m: could not convert string to float: 'CA'"
          ]
        }
      ]
    },
    {
      "cell_type": "code",
      "source": [
        "X.loc[X['dti'] =='CA']\n",
        "#Row 36 is dirty...."
      ],
      "metadata": {
        "colab": {
          "base_uri": "https://localhost:8080/",
          "height": 145
        },
        "id": "OWqoQMcgL5xt",
        "outputId": "760df26a-6c0f-4fe4-bde8-aa16e0d441b4"
      },
      "execution_count": 251,
      "outputs": [
        {
          "output_type": "execute_result",
          "data": {
            "text/plain": [
              "    annual_inc  collection_recovery_fee dti  funded_amnt  funded_amnt_inv  \\\n",
              "36     55596.0                      0.0  CA        10800          10800.0   \n",
              "\n",
              "    installment  int_rate  recoveries  revol_bal  total_acc  total_pymnt  \\\n",
              "36       348.03      9.91         0.0          0       13.3          0.0   \n",
              "\n",
              "    total_pymnt_inv  total_rec_int  total_rec_late_fee  total_rec_prncp  \n",
              "36          12157.2        10800.0              1357.2          12157.2  "
            ],
            "text/html": [
              "\n",
              "  <div id=\"df-0df9f37c-f4a9-4e88-a1e5-eee84622ab77\">\n",
              "    <div class=\"colab-df-container\">\n",
              "      <div>\n",
              "<style scoped>\n",
              "    .dataframe tbody tr th:only-of-type {\n",
              "        vertical-align: middle;\n",
              "    }\n",
              "\n",
              "    .dataframe tbody tr th {\n",
              "        vertical-align: top;\n",
              "    }\n",
              "\n",
              "    .dataframe thead th {\n",
              "        text-align: right;\n",
              "    }\n",
              "</style>\n",
              "<table border=\"1\" class=\"dataframe\">\n",
              "  <thead>\n",
              "    <tr style=\"text-align: right;\">\n",
              "      <th></th>\n",
              "      <th>annual_inc</th>\n",
              "      <th>collection_recovery_fee</th>\n",
              "      <th>dti</th>\n",
              "      <th>funded_amnt</th>\n",
              "      <th>funded_amnt_inv</th>\n",
              "      <th>installment</th>\n",
              "      <th>int_rate</th>\n",
              "      <th>recoveries</th>\n",
              "      <th>revol_bal</th>\n",
              "      <th>total_acc</th>\n",
              "      <th>total_pymnt</th>\n",
              "      <th>total_pymnt_inv</th>\n",
              "      <th>total_rec_int</th>\n",
              "      <th>total_rec_late_fee</th>\n",
              "      <th>total_rec_prncp</th>\n",
              "    </tr>\n",
              "  </thead>\n",
              "  <tbody>\n",
              "    <tr>\n",
              "      <th>36</th>\n",
              "      <td>55596.0</td>\n",
              "      <td>0.0</td>\n",
              "      <td>CA</td>\n",
              "      <td>10800</td>\n",
              "      <td>10800.0</td>\n",
              "      <td>348.03</td>\n",
              "      <td>9.91</td>\n",
              "      <td>0.0</td>\n",
              "      <td>0</td>\n",
              "      <td>13.3</td>\n",
              "      <td>0.0</td>\n",
              "      <td>12157.2</td>\n",
              "      <td>10800.0</td>\n",
              "      <td>1357.2</td>\n",
              "      <td>12157.2</td>\n",
              "    </tr>\n",
              "  </tbody>\n",
              "</table>\n",
              "</div>\n",
              "      <button class=\"colab-df-convert\" onclick=\"convertToInteractive('df-0df9f37c-f4a9-4e88-a1e5-eee84622ab77')\"\n",
              "              title=\"Convert this dataframe to an interactive table.\"\n",
              "              style=\"display:none;\">\n",
              "        \n",
              "  <svg xmlns=\"http://www.w3.org/2000/svg\" height=\"24px\"viewBox=\"0 0 24 24\"\n",
              "       width=\"24px\">\n",
              "    <path d=\"M0 0h24v24H0V0z\" fill=\"none\"/>\n",
              "    <path d=\"M18.56 5.44l.94 2.06.94-2.06 2.06-.94-2.06-.94-.94-2.06-.94 2.06-2.06.94zm-11 1L8.5 8.5l.94-2.06 2.06-.94-2.06-.94L8.5 2.5l-.94 2.06-2.06.94zm10 10l.94 2.06.94-2.06 2.06-.94-2.06-.94-.94-2.06-.94 2.06-2.06.94z\"/><path d=\"M17.41 7.96l-1.37-1.37c-.4-.4-.92-.59-1.43-.59-.52 0-1.04.2-1.43.59L10.3 9.45l-7.72 7.72c-.78.78-.78 2.05 0 2.83L4 21.41c.39.39.9.59 1.41.59.51 0 1.02-.2 1.41-.59l7.78-7.78 2.81-2.81c.8-.78.8-2.07 0-2.86zM5.41 20L4 18.59l7.72-7.72 1.47 1.35L5.41 20z\"/>\n",
              "  </svg>\n",
              "      </button>\n",
              "      \n",
              "  <style>\n",
              "    .colab-df-container {\n",
              "      display:flex;\n",
              "      flex-wrap:wrap;\n",
              "      gap: 12px;\n",
              "    }\n",
              "\n",
              "    .colab-df-convert {\n",
              "      background-color: #E8F0FE;\n",
              "      border: none;\n",
              "      border-radius: 50%;\n",
              "      cursor: pointer;\n",
              "      display: none;\n",
              "      fill: #1967D2;\n",
              "      height: 32px;\n",
              "      padding: 0 0 0 0;\n",
              "      width: 32px;\n",
              "    }\n",
              "\n",
              "    .colab-df-convert:hover {\n",
              "      background-color: #E2EBFA;\n",
              "      box-shadow: 0px 1px 2px rgba(60, 64, 67, 0.3), 0px 1px 3px 1px rgba(60, 64, 67, 0.15);\n",
              "      fill: #174EA6;\n",
              "    }\n",
              "\n",
              "    [theme=dark] .colab-df-convert {\n",
              "      background-color: #3B4455;\n",
              "      fill: #D2E3FC;\n",
              "    }\n",
              "\n",
              "    [theme=dark] .colab-df-convert:hover {\n",
              "      background-color: #434B5C;\n",
              "      box-shadow: 0px 1px 3px 1px rgba(0, 0, 0, 0.15);\n",
              "      filter: drop-shadow(0px 1px 2px rgba(0, 0, 0, 0.3));\n",
              "      fill: #FFFFFF;\n",
              "    }\n",
              "  </style>\n",
              "\n",
              "      <script>\n",
              "        const buttonEl =\n",
              "          document.querySelector('#df-0df9f37c-f4a9-4e88-a1e5-eee84622ab77 button.colab-df-convert');\n",
              "        buttonEl.style.display =\n",
              "          google.colab.kernel.accessAllowed ? 'block' : 'none';\n",
              "\n",
              "        async function convertToInteractive(key) {\n",
              "          const element = document.querySelector('#df-0df9f37c-f4a9-4e88-a1e5-eee84622ab77');\n",
              "          const dataTable =\n",
              "            await google.colab.kernel.invokeFunction('convertToInteractive',\n",
              "                                                     [key], {});\n",
              "          if (!dataTable) return;\n",
              "\n",
              "          const docLinkHtml = 'Like what you see? Visit the ' +\n",
              "            '<a target=\"_blank\" href=https://colab.research.google.com/notebooks/data_table.ipynb>data table notebook</a>'\n",
              "            + ' to learn more about interactive tables.';\n",
              "          element.innerHTML = '';\n",
              "          dataTable['output_type'] = 'display_data';\n",
              "          await google.colab.output.renderOutput(dataTable, element);\n",
              "          const docLink = document.createElement('div');\n",
              "          docLink.innerHTML = docLinkHtml;\n",
              "          element.appendChild(docLink);\n",
              "        }\n",
              "      </script>\n",
              "    </div>\n",
              "  </div>\n",
              "  "
            ]
          },
          "metadata": {},
          "execution_count": 251
        }
      ]
    },
    {
      "cell_type": "markdown",
      "source": [
        "##4b) Cleanse Characters into Numbers"
      ],
      "metadata": {
        "id": "zeZhPIHy8tzO"
      }
    },
    {
      "cell_type": "code",
      "source": [
        "X['dti'].iloc[34: 38]\n",
        "#we check the surrounding row numbers values..."
      ],
      "metadata": {
        "colab": {
          "base_uri": "https://localhost:8080/"
        },
        "id": "ZlBDZ5_BQJNR",
        "outputId": "5b7cfd35-050e-4d4e-eb28-cd816af70960"
      },
      "execution_count": 252,
      "outputs": [
        {
          "output_type": "execute_result",
          "data": {
            "text/plain": [
              "34    6.35\n",
              "35    11.8\n",
              "36      CA\n",
              "37    8.48\n",
              "Name: dti, dtype: object"
            ]
          },
          "metadata": {},
          "execution_count": 252
        }
      ]
    },
    {
      "cell_type": "code",
      "source": [
        "X['dti'].iloc[36]"
      ],
      "metadata": {
        "colab": {
          "base_uri": "https://localhost:8080/",
          "height": 35
        },
        "id": "Hx4WcB1jTBEX",
        "outputId": "6b40e0f5-1cea-4b62-e9a6-1c04e486fd8e"
      },
      "execution_count": 253,
      "outputs": [
        {
          "output_type": "execute_result",
          "data": {
            "text/plain": [
              "'CA'"
            ],
            "application/vnd.google.colaboratory.intrinsic+json": {
              "type": "string"
            }
          },
          "metadata": {},
          "execution_count": 253
        }
      ]
    },
    {
      "cell_type": "code",
      "source": [
        "X['dti'].iloc[36] = 10\n",
        "#since 'dti' row 36 is 'CA' and we need to change to a number\n",
        "#we decide upon 10 because its between 11.8 and 8.48"
      ],
      "metadata": {
        "colab": {
          "base_uri": "https://localhost:8080/"
        },
        "id": "mOYgqpNzUL4k",
        "outputId": "ae039542-786d-4649-c605-bb72f8de4011"
      },
      "execution_count": 254,
      "outputs": [
        {
          "output_type": "stream",
          "name": "stderr",
          "text": [
            "/usr/local/lib/python3.7/dist-packages/pandas/core/indexing.py:1732: SettingWithCopyWarning: \n",
            "A value is trying to be set on a copy of a slice from a DataFrame\n",
            "\n",
            "See the caveats in the documentation: https://pandas.pydata.org/pandas-docs/stable/user_guide/indexing.html#returning-a-view-versus-a-copy\n",
            "  self._setitem_single_block(indexer, value, name)\n"
          ]
        }
      ]
    },
    {
      "cell_type": "code",
      "source": [
        "X['dti'].iloc[36]"
      ],
      "metadata": {
        "colab": {
          "base_uri": "https://localhost:8080/"
        },
        "id": "fshT3_7RS9-w",
        "outputId": "b000259c-fef3-40ee-da6e-67a9d490751f"
      },
      "execution_count": 255,
      "outputs": [
        {
          "output_type": "execute_result",
          "data": {
            "text/plain": [
              "10"
            ]
          },
          "metadata": {},
          "execution_count": 255
        }
      ]
    },
    {
      "cell_type": "code",
      "source": [
        "X['dti'] = X['dti'].astype(float)\n",
        "#we need to convert 'dti' column to 'float' in order to feed the \n",
        "#Random Forest Classifier "
      ],
      "metadata": {
        "colab": {
          "base_uri": "https://localhost:8080/"
        },
        "id": "bZ5SWsPwy_kd",
        "outputId": "02a69c63-6df1-4c73-b787-acfcedea6a04"
      },
      "execution_count": 256,
      "outputs": [
        {
          "output_type": "stream",
          "name": "stderr",
          "text": [
            "/usr/local/lib/python3.7/dist-packages/ipykernel_launcher.py:1: SettingWithCopyWarning: \n",
            "A value is trying to be set on a copy of a slice from a DataFrame.\n",
            "Try using .loc[row_indexer,col_indexer] = value instead\n",
            "\n",
            "See the caveats in the documentation: https://pandas.pydata.org/pandas-docs/stable/user_guide/indexing.html#returning-a-view-versus-a-copy\n",
            "  \"\"\"Entry point for launching an IPython kernel.\n"
          ]
        }
      ]
    },
    {
      "cell_type": "code",
      "source": [
        "X.dtypes\n",
        "#Finally! all columns are now numbers!"
      ],
      "metadata": {
        "colab": {
          "base_uri": "https://localhost:8080/"
        },
        "id": "FZsPXAmRzCKd",
        "outputId": "e4c072a0-25bb-4fdf-fec9-3b9ef4b0dbe7"
      },
      "execution_count": 257,
      "outputs": [
        {
          "output_type": "execute_result",
          "data": {
            "text/plain": [
              "annual_inc                 float64\n",
              "collection_recovery_fee    float64\n",
              "dti                        float64\n",
              "funded_amnt                  int64\n",
              "funded_amnt_inv            float64\n",
              "installment                float64\n",
              "int_rate                   float64\n",
              "recoveries                 float64\n",
              "revol_bal                    int64\n",
              "total_acc                  float64\n",
              "total_pymnt                float64\n",
              "total_pymnt_inv            float64\n",
              "total_rec_int              float64\n",
              "total_rec_late_fee         float64\n",
              "total_rec_prncp            float64\n",
              "dtype: object"
            ]
          },
          "metadata": {},
          "execution_count": 257
        }
      ]
    },
    {
      "cell_type": "markdown",
      "source": [
        "##4c) Create Random Forest Classifier"
      ],
      "metadata": {
        "id": "w1BIllj984-a"
      }
    },
    {
      "cell_type": "code",
      "source": [
        "import sklearn\n",
        "from sklearn.ensemble import RandomForestClassifier\n",
        "\n",
        "clf = RandomForestClassifier(n_estimators = 100)\n",
        "#n_estimators stands for the no. of trees in the forest\n",
        "#we use 100 trees here\n",
        "\n",
        "clf.fit(X, y)\n"
      ],
      "metadata": {
        "colab": {
          "base_uri": "https://localhost:8080/"
        },
        "id": "v2e4VWXipd_N",
        "outputId": "601ecf14-8899-445c-bab7-882ac5c8b1fa"
      },
      "execution_count": 258,
      "outputs": [
        {
          "output_type": "execute_result",
          "data": {
            "text/plain": [
              "RandomForestClassifier()"
            ]
          },
          "metadata": {},
          "execution_count": 258
        }
      ]
    },
    {
      "cell_type": "markdown",
      "source": [
        "##4d) Find Important Features"
      ],
      "metadata": {
        "id": "M0sQsy7t9Atq"
      }
    },
    {
      "cell_type": "code",
      "source": [
        "clf.feature_importances_"
      ],
      "metadata": {
        "id": "MOZHKJR1qKdT",
        "colab": {
          "base_uri": "https://localhost:8080/"
        },
        "outputId": "f1fff1ca-ec13-4aec-e298-16d714ce5070"
      },
      "execution_count": 259,
      "outputs": [
        {
          "output_type": "execute_result",
          "data": {
            "text/plain": [
              "array([0.06060857, 0.01142957, 0.04984586, 0.15068175, 0.14645094,\n",
              "       0.10291792, 0.0456518 , 0.0133651 , 0.04882682, 0.04138062,\n",
              "       0.08186602, 0.0870414 , 0.05942668, 0.00573743, 0.09476953])"
            ]
          },
          "metadata": {},
          "execution_count": 259
        }
      ]
    },
    {
      "cell_type": "code",
      "source": [
        "feature_imp = pd.Series(clf.feature_importances_, index = X_index).sort_values(ascending = False)"
      ],
      "metadata": {
        "id": "IDAbraYxh-Rx"
      },
      "execution_count": 260,
      "outputs": []
    },
    {
      "cell_type": "code",
      "source": [
        "feature_imp"
      ],
      "metadata": {
        "colab": {
          "base_uri": "https://localhost:8080/"
        },
        "id": "MpdoekD1iEY5",
        "outputId": "78cf0933-41b4-4cfe-c0ad-cadca9172d64"
      },
      "execution_count": 261,
      "outputs": [
        {
          "output_type": "execute_result",
          "data": {
            "text/plain": [
              "(funded_amnt,)                0.150682\n",
              "(funded_amnt_inv,)            0.146451\n",
              "(installment,)                0.102918\n",
              "(total_rec_prncp,)            0.094770\n",
              "(total_pymnt_inv,)            0.087041\n",
              "(total_pymnt,)                0.081866\n",
              "(annual_inc,)                 0.060609\n",
              "(total_rec_int,)              0.059427\n",
              "(dti,)                        0.049846\n",
              "(revol_bal,)                  0.048827\n",
              "(int_rate,)                   0.045652\n",
              "(total_acc,)                  0.041381\n",
              "(recoveries,)                 0.013365\n",
              "(collection_recovery_fee,)    0.011430\n",
              "(total_rec_late_fee,)         0.005737\n",
              "dtype: float64"
            ]
          },
          "metadata": {},
          "execution_count": 261
        }
      ]
    },
    {
      "cell_type": "markdown",
      "source": [
        "##4e) Plot Important Features"
      ],
      "metadata": {
        "id": "5rI3LdFz9DtD"
      }
    },
    {
      "cell_type": "code",
      "source": [
        "import matplotlib.pyplot as plt\n",
        "import seaborn as sns\n",
        "%matplotlib inline\n",
        "\n",
        "#Creating a bar plot\n",
        "sns.barplot(x = feature_imp, y = feature_imp.index)\n",
        "\n",
        "#Add labels to your graph\n",
        "plt.xlabel('Feature Importance Score')\n",
        "plt.ylabel('Features')\n",
        "plt.title('Visualizing Important Features using Random Forest Classifier')\n",
        "plt.legend()\n",
        "plt.show()"
      ],
      "metadata": {
        "colab": {
          "base_uri": "https://localhost:8080/",
          "height": 318
        },
        "id": "Bcd4KaeKijjS",
        "outputId": "f3a38170-a2d5-443f-c723-640cfcf40535"
      },
      "execution_count": 262,
      "outputs": [
        {
          "output_type": "stream",
          "name": "stderr",
          "text": [
            "No handles with labels found to put in legend.\n"
          ]
        },
        {
          "output_type": "display_data",
          "data": {
            "text/plain": [
              "<Figure size 432x288 with 1 Axes>"
            ],
            "image/png": "[encoded data removed]"
          },
          "metadata": {
            "needs_background": "light"
          }
        }
      ]
    },
    {
      "cell_type": "markdown",
      "source": [
        "From the Random Forest Classifier, we see that the TOP 5 important columns are:\n",
        "- Funded Amount\n",
        "- Funded Amount Inventory\n",
        "- Installment\n",
        "- Total Received Principle\n",
        "- Total Payment"
      ],
      "metadata": {
        "id": "O0oPA06a9Jaa"
      }
    },
    {
      "cell_type": "markdown",
      "source": [
        "\n",
        "\n",
        "---\n",
        "\n"
      ],
      "metadata": {
        "id": "PzkvHnFirTzz"
      }
    },
    {
      "cell_type": "markdown",
      "source": [
        "#Step 5: Cross check the TOP 5 Important Features using Multiple Regression"
      ],
      "metadata": {
        "id": "7pDc_fLu8dua"
      }
    },
    {
      "cell_type": "markdown",
      "source": [
        "##5a) Create Multiple Regression Model"
      ],
      "metadata": {
        "id": "0oF8sDaV9jXi"
      }
    },
    {
      "cell_type": "code",
      "source": [
        "from statsmodels.api import OLS\n",
        "OLS(y,X).fit().summary()"
      ],
      "metadata": {
        "colab": {
          "base_uri": "https://localhost:8080/",
          "height": 764
        },
        "id": "BqL6tVlKyzsv",
        "outputId": "2f93ff25-46d2-47bf-cc53-c266b9b0e583"
      },
      "execution_count": 263,
      "outputs": [
        {
          "output_type": "execute_result",
          "data": {
            "text/plain": [
              "<class 'statsmodels.iolib.summary.Summary'>\n",
              "\"\"\"\n",
              "                                 OLS Regression Results                                \n",
              "=======================================================================================\n",
              "Dep. Variable:              loan_amnt   R-squared (uncentered):                   0.986\n",
              "Model:                            OLS   Adj. R-squared (uncentered):              0.985\n",
              "Method:                 Least Squares   F-statistic:                              856.5\n",
              "Date:                Sun, 05 Jun 2022   Prob (F-statistic):                   2.24e-161\n",
              "Time:                        08:28:11   Log-Likelihood:                         -1748.4\n",
              "No. Observations:                 199   AIC:                                      3527.\n",
              "Df Residuals:                     184   BIC:                                      3576.\n",
              "Df Model:                          15                                                  \n",
              "Covariance Type:            nonrobust                                                  \n",
              "===========================================================================================\n",
              "                              coef    std err          t      P>|t|      [0.025      0.975]\n",
              "-------------------------------------------------------------------------------------------\n",
              "annual_inc                  0.0013      0.005      0.262      0.794      -0.009       0.011\n",
              "collection_recovery_fee     5.4032      5.495      0.983      0.327      -5.437      16.244\n",
              "dti                       -20.6412     20.285     -1.018      0.310     -60.662      19.379\n",
              "funded_amnt                 1.3663      0.294      4.647      0.000       0.786       1.946\n",
              "funded_amnt_inv            -0.3063      0.284     -1.079      0.282      -0.866       0.254\n",
              "installment                -5.2592      2.817     -1.867      0.064     -10.818       0.299\n",
              "int_rate                   34.8507     28.326      1.230      0.220     -21.034      90.735\n",
              "recoveries                  1.4365      1.566      0.918      0.360      -1.652       4.525\n",
              "revol_bal                   0.0059      0.013      0.441      0.660      -0.021       0.032\n",
              "total_acc                   1.8305     14.041      0.130      0.896     -25.871      29.532\n",
              "total_pymnt                -1.5189      1.258     -1.207      0.229      -4.001       0.964\n",
              "total_pymnt_inv             0.4512      0.248      1.819      0.070      -0.038       0.940\n",
              "total_rec_int               1.1946      1.290      0.926      0.356      -1.351       3.740\n",
              "total_rec_late_fee        -23.1294     21.396     -1.081      0.281     -65.342      19.083\n",
              "total_rec_prncp             1.1475      1.272      0.902      0.368      -1.362       3.657\n",
              "==============================================================================\n",
              "Omnibus:                      227.998   Durbin-Watson:                   2.254\n",
              "Prob(Omnibus):                  0.000   Jarque-Bera (JB):             8010.921\n",
              "Skew:                           4.662   Prob(JB):                         0.00\n",
              "Kurtosis:                      32.651   Cond. No.                     1.97e+04\n",
              "==============================================================================\n",
              "\n",
              "Warnings:\n",
              "[1] Standard Errors assume that the covariance matrix of the errors is correctly specified.\n",
              "[2] The condition number is large, 1.97e+04. This might indicate that there are\n",
              "strong multicollinearity or other numerical problems.\n",
              "\"\"\""
            ],
            "text/html": [
              "<table class=\"simpletable\">\n",
              "<caption>OLS Regression Results</caption>\n",
              "<tr>\n",
              "  <th>Dep. Variable:</th>        <td>loan_amnt</td>    <th>  R-squared (uncentered):</th>      <td>   0.986</td> \n",
              "</tr>\n",
              "<tr>\n",
              "  <th>Model:</th>                   <td>OLS</td>       <th>  Adj. R-squared (uncentered):</th> <td>   0.985</td> \n",
              "</tr>\n",
              "<tr>\n",
              "  <th>Method:</th>             <td>Least Squares</td>  <th>  F-statistic:       </th>          <td>   856.5</td> \n",
              "</tr>\n",
              "<tr>\n",
              "  <th>Date:</th>             <td>Sun, 05 Jun 2022</td> <th>  Prob (F-statistic):</th>          <td>2.24e-161</td>\n",
              "</tr>\n",
              "<tr>\n",
              "  <th>Time:</th>                 <td>08:28:11</td>     <th>  Log-Likelihood:    </th>          <td> -1748.4</td> \n",
              "</tr>\n",
              "<tr>\n",
              "  <th>No. Observations:</th>      <td>   199</td>      <th>  AIC:               </th>          <td>   3527.</td> \n",
              "</tr>\n",
              "<tr>\n",
              "  <th>Df Residuals:</th>          <td>   184</td>      <th>  BIC:               </th>          <td>   3576.</td> \n",
              "</tr>\n",
              "<tr>\n",
              "  <th>Df Model:</th>              <td>    15</td>      <th>                     </th>              <td> </td>    \n",
              "</tr>\n",
              "<tr>\n",
              "  <th>Covariance Type:</th>      <td>nonrobust</td>    <th>                     </th>              <td> </td>    \n",
              "</tr>\n",
              "</table>\n",
              "<table class=\"simpletable\">\n",
              "<tr>\n",
              "             <td></td>                <th>coef</th>     <th>std err</th>      <th>t</th>      <th>P>|t|</th>  <th>[0.025</th>    <th>0.975]</th>  \n",
              "</tr>\n",
              "<tr>\n",
              "  <th>annual_inc</th>              <td>    0.0013</td> <td>    0.005</td> <td>    0.262</td> <td> 0.794</td> <td>   -0.009</td> <td>    0.011</td>\n",
              "</tr>\n",
              "<tr>\n",
              "  <th>collection_recovery_fee</th> <td>    5.4032</td> <td>    5.495</td> <td>    0.983</td> <td> 0.327</td> <td>   -5.437</td> <td>   16.244</td>\n",
              "</tr>\n",
              "<tr>\n",
              "  <th>dti</th>                     <td>  -20.6412</td> <td>   20.285</td> <td>   -1.018</td> <td> 0.310</td> <td>  -60.662</td> <td>   19.379</td>\n",
              "</tr>\n",
              "<tr>\n",
              "  <th>funded_amnt</th>             <td>    1.3663</td> <td>    0.294</td> <td>    4.647</td> <td> 0.000</td> <td>    0.786</td> <td>    1.946</td>\n",
              "</tr>\n",
              "<tr>\n",
              "  <th>funded_amnt_inv</th>         <td>   -0.3063</td> <td>    0.284</td> <td>   -1.079</td> <td> 0.282</td> <td>   -0.866</td> <td>    0.254</td>\n",
              "</tr>\n",
              "<tr>\n",
              "  <th>installment</th>             <td>   -5.2592</td> <td>    2.817</td> <td>   -1.867</td> <td> 0.064</td> <td>  -10.818</td> <td>    0.299</td>\n",
              "</tr>\n",
              "<tr>\n",
              "  <th>int_rate</th>                <td>   34.8507</td> <td>   28.326</td> <td>    1.230</td> <td> 0.220</td> <td>  -21.034</td> <td>   90.735</td>\n",
              "</tr>\n",
              "<tr>\n",
              "  <th>recoveries</th>              <td>    1.4365</td> <td>    1.566</td> <td>    0.918</td> <td> 0.360</td> <td>   -1.652</td> <td>    4.525</td>\n",
              "</tr>\n",
              "<tr>\n",
              "  <th>revol_bal</th>               <td>    0.0059</td> <td>    0.013</td> <td>    0.441</td> <td> 0.660</td> <td>   -0.021</td> <td>    0.032</td>\n",
              "</tr>\n",
              "<tr>\n",
              "  <th>total_acc</th>               <td>    1.8305</td> <td>   14.041</td> <td>    0.130</td> <td> 0.896</td> <td>  -25.871</td> <td>   29.532</td>\n",
              "</tr>\n",
              "<tr>\n",
              "  <th>total_pymnt</th>             <td>   -1.5189</td> <td>    1.258</td> <td>   -1.207</td> <td> 0.229</td> <td>   -4.001</td> <td>    0.964</td>\n",
              "</tr>\n",
              "<tr>\n",
              "  <th>total_pymnt_inv</th>         <td>    0.4512</td> <td>    0.248</td> <td>    1.819</td> <td> 0.070</td> <td>   -0.038</td> <td>    0.940</td>\n",
              "</tr>\n",
              "<tr>\n",
              "  <th>total_rec_int</th>           <td>    1.1946</td> <td>    1.290</td> <td>    0.926</td> <td> 0.356</td> <td>   -1.351</td> <td>    3.740</td>\n",
              "</tr>\n",
              "<tr>\n",
              "  <th>total_rec_late_fee</th>      <td>  -23.1294</td> <td>   21.396</td> <td>   -1.081</td> <td> 0.281</td> <td>  -65.342</td> <td>   19.083</td>\n",
              "</tr>\n",
              "<tr>\n",
              "  <th>total_rec_prncp</th>         <td>    1.1475</td> <td>    1.272</td> <td>    0.902</td> <td> 0.368</td> <td>   -1.362</td> <td>    3.657</td>\n",
              "</tr>\n",
              "</table>\n",
              "<table class=\"simpletable\">\n",
              "<tr>\n",
              "  <th>Omnibus:</th>       <td>227.998</td> <th>  Durbin-Watson:     </th> <td>   2.254</td>\n",
              "</tr>\n",
              "<tr>\n",
              "  <th>Prob(Omnibus):</th> <td> 0.000</td>  <th>  Jarque-Bera (JB):  </th> <td>8010.921</td>\n",
              "</tr>\n",
              "<tr>\n",
              "  <th>Skew:</th>          <td> 4.662</td>  <th>  Prob(JB):          </th> <td>    0.00</td>\n",
              "</tr>\n",
              "<tr>\n",
              "  <th>Kurtosis:</th>      <td>32.651</td>  <th>  Cond. No.          </th> <td>1.97e+04</td>\n",
              "</tr>\n",
              "</table><br/><br/>Warnings:<br/>[1] Standard Errors assume that the covariance matrix of the errors is correctly specified.<br/>[2] The condition number is large, 1.97e+04. This might indicate that there are<br/>strong multicollinearity or other numerical problems."
            ]
          },
          "metadata": {},
          "execution_count": 263
        }
      ]
    },
    {
      "cell_type": "markdown",
      "source": [
        "##5b) Create a Dataframe to Store P-Values"
      ],
      "metadata": {
        "id": "LrN-aWKg9oyr"
      }
    },
    {
      "cell_type": "code",
      "source": [
        "import pandas as pd \n",
        "# list of strings \n",
        "lst1 = ['annual_inc', \n",
        "         'collection_recovery_fee', \n",
        "         'dti', \n",
        "         'funded_amnt', \n",
        "         'funded_amnt_inv', \n",
        "         'installment', \n",
        "         'int_rate', \n",
        "         'recoveries', \n",
        "         'revol_bal', \n",
        "         'total_acc', \n",
        "         'total_pymnt', \n",
        "         'total_pymnt_inv', \n",
        "         'total_rec_int', \n",
        "         'total_rec_late_fee', \n",
        "         'total_rec_prncp']\n",
        "# list of int \n",
        "lst2 = [0.794, 0.327, 0.31, 0, 0.282, 0.064, 0.22, 0.36, 0.66, 0.896, 0.229, 0.07, 0.356, 0.281, 0.368] \n",
        "# Calling DataFrame after zipping both lists, with columns specified \n",
        "df = pd.DataFrame(list(zip(lst1, lst2)), columns =['X', 'P-value']) \n"
      ],
      "metadata": {
        "id": "RH4SsVni2kg0"
      },
      "execution_count": 264,
      "outputs": []
    },
    {
      "cell_type": "code",
      "source": [
        " result = df.sort_values(by=\"P-value\", ascending=True)\n",
        " result"
      ],
      "metadata": {
        "colab": {
          "base_uri": "https://localhost:8080/",
          "height": 520
        },
        "id": "_ozzcDwL6mVb",
        "outputId": "8c6a077b-28bd-4a8b-fd76-c2dee5cc7808"
      },
      "execution_count": 265,
      "outputs": [
        {
          "output_type": "execute_result",
          "data": {
            "text/plain": [
              "                          X  P-value\n",
              "3               funded_amnt    0.000\n",
              "5               installment    0.064\n",
              "11          total_pymnt_inv    0.070\n",
              "6                  int_rate    0.220\n",
              "10              total_pymnt    0.229\n",
              "13       total_rec_late_fee    0.281\n",
              "4           funded_amnt_inv    0.282\n",
              "2                       dti    0.310\n",
              "1   collection_recovery_fee    0.327\n",
              "12            total_rec_int    0.356\n",
              "7                recoveries    0.360\n",
              "14          total_rec_prncp    0.368\n",
              "8                 revol_bal    0.660\n",
              "0                annual_inc    0.794\n",
              "9                 total_acc    0.896"
            ],
            "text/html": [
              "\n",
              "  <div id=\"df-33dc83ee-46ed-4420-a1c4-f2b9e0ce8e5e\">\n",
              "    <div class=\"colab-df-container\">\n",
              "      <div>\n",
              "<style scoped>\n",
              "    .dataframe tbody tr th:only-of-type {\n",
              "        vertical-align: middle;\n",
              "    }\n",
              "\n",
              "    .dataframe tbody tr th {\n",
              "        vertical-align: top;\n",
              "    }\n",
              "\n",
              "    .dataframe thead th {\n",
              "        text-align: right;\n",
              "    }\n",
              "</style>\n",
              "<table border=\"1\" class=\"dataframe\">\n",
              "  <thead>\n",
              "    <tr style=\"text-align: right;\">\n",
              "      <th></th>\n",
              "      <th>X</th>\n",
              "      <th>P-value</th>\n",
              "    </tr>\n",
              "  </thead>\n",
              "  <tbody>\n",
              "    <tr>\n",
              "      <th>3</th>\n",
              "      <td>funded_amnt</td>\n",
              "      <td>0.000</td>\n",
              "    </tr>\n",
              "    <tr>\n",
              "      <th>5</th>\n",
              "      <td>installment</td>\n",
              "      <td>0.064</td>\n",
              "    </tr>\n",
              "    <tr>\n",
              "      <th>11</th>\n",
              "      <td>total_pymnt_inv</td>\n",
              "      <td>0.070</td>\n",
              "    </tr>\n",
              "    <tr>\n",
              "      <th>6</th>\n",
              "      <td>int_rate</td>\n",
              "      <td>0.220</td>\n",
              "    </tr>\n",
              "    <tr>\n",
              "      <th>10</th>\n",
              "      <td>total_pymnt</td>\n",
              "      <td>0.229</td>\n",
              "    </tr>\n",
              "    <tr>\n",
              "      <th>13</th>\n",
              "      <td>total_rec_late_fee</td>\n",
              "      <td>0.281</td>\n",
              "    </tr>\n",
              "    <tr>\n",
              "      <th>4</th>\n",
              "      <td>funded_amnt_inv</td>\n",
              "      <td>0.282</td>\n",
              "    </tr>\n",
              "    <tr>\n",
              "      <th>2</th>\n",
              "      <td>dti</td>\n",
              "      <td>0.310</td>\n",
              "    </tr>\n",
              "    <tr>\n",
              "      <th>1</th>\n",
              "      <td>collection_recovery_fee</td>\n",
              "      <td>0.327</td>\n",
              "    </tr>\n",
              "    <tr>\n",
              "      <th>12</th>\n",
              "      <td>total_rec_int</td>\n",
              "      <td>0.356</td>\n",
              "    </tr>\n",
              "    <tr>\n",
              "      <th>7</th>\n",
              "      <td>recoveries</td>\n",
              "      <td>0.360</td>\n",
              "    </tr>\n",
              "    <tr>\n",
              "      <th>14</th>\n",
              "      <td>total_rec_prncp</td>\n",
              "      <td>0.368</td>\n",
              "    </tr>\n",
              "    <tr>\n",
              "      <th>8</th>\n",
              "      <td>revol_bal</td>\n",
              "      <td>0.660</td>\n",
              "    </tr>\n",
              "    <tr>\n",
              "      <th>0</th>\n",
              "      <td>annual_inc</td>\n",
              "      <td>0.794</td>\n",
              "    </tr>\n",
              "    <tr>\n",
              "      <th>9</th>\n",
              "      <td>total_acc</td>\n",
              "      <td>0.896</td>\n",
              "    </tr>\n",
              "  </tbody>\n",
              "</table>\n",
              "</div>\n",
              "      <button class=\"colab-df-convert\" onclick=\"convertToInteractive('df-33dc83ee-46ed-4420-a1c4-f2b9e0ce8e5e')\"\n",
              "              title=\"Convert this dataframe to an interactive table.\"\n",
              "              style=\"display:none;\">\n",
              "        \n",
              "  <svg xmlns=\"http://www.w3.org/2000/svg\" height=\"24px\"viewBox=\"0 0 24 24\"\n",
              "       width=\"24px\">\n",
              "    <path d=\"M0 0h24v24H0V0z\" fill=\"none\"/>\n",
              "    <path d=\"M18.56 5.44l.94 2.06.94-2.06 2.06-.94-2.06-.94-.94-2.06-.94 2.06-2.06.94zm-11 1L8.5 8.5l.94-2.06 2.06-.94-2.06-.94L8.5 2.5l-.94 2.06-2.06.94zm10 10l.94 2.06.94-2.06 2.06-.94-2.06-.94-.94-2.06-.94 2.06-2.06.94z\"/><path d=\"M17.41 7.96l-1.37-1.37c-.4-.4-.92-.59-1.43-.59-.52 0-1.04.2-1.43.59L10.3 9.45l-7.72 7.72c-.78.78-.78 2.05 0 2.83L4 21.41c.39.39.9.59 1.41.59.51 0 1.02-.2 1.41-.59l7.78-7.78 2.81-2.81c.8-.78.8-2.07 0-2.86zM5.41 20L4 18.59l7.72-7.72 1.47 1.35L5.41 20z\"/>\n",
              "  </svg>\n",
              "      </button>\n",
              "      \n",
              "  <style>\n",
              "    .colab-df-container {\n",
              "      display:flex;\n",
              "      flex-wrap:wrap;\n",
              "      gap: 12px;\n",
              "    }\n",
              "\n",
              "    .colab-df-convert {\n",
              "      background-color: #E8F0FE;\n",
              "      border: none;\n",
              "      border-radius: 50%;\n",
              "      cursor: pointer;\n",
              "      display: none;\n",
              "      fill: #1967D2;\n",
              "      height: 32px;\n",
              "      padding: 0 0 0 0;\n",
              "      width: 32px;\n",
              "    }\n",
              "\n",
              "    .colab-df-convert:hover {\n",
              "      background-color: #E2EBFA;\n",
              "      box-shadow: 0px 1px 2px rgba(60, 64, 67, 0.3), 0px 1px 3px 1px rgba(60, 64, 67, 0.15);\n",
              "      fill: #174EA6;\n",
              "    }\n",
              "\n",
              "    [theme=dark] .colab-df-convert {\n",
              "      background-color: #3B4455;\n",
              "      fill: #D2E3FC;\n",
              "    }\n",
              "\n",
              "    [theme=dark] .colab-df-convert:hover {\n",
              "      background-color: #434B5C;\n",
              "      box-shadow: 0px 1px 3px 1px rgba(0, 0, 0, 0.15);\n",
              "      filter: drop-shadow(0px 1px 2px rgba(0, 0, 0, 0.3));\n",
              "      fill: #FFFFFF;\n",
              "    }\n",
              "  </style>\n",
              "\n",
              "      <script>\n",
              "        const buttonEl =\n",
              "          document.querySelector('#df-33dc83ee-46ed-4420-a1c4-f2b9e0ce8e5e button.colab-df-convert');\n",
              "        buttonEl.style.display =\n",
              "          google.colab.kernel.accessAllowed ? 'block' : 'none';\n",
              "\n",
              "        async function convertToInteractive(key) {\n",
              "          const element = document.querySelector('#df-33dc83ee-46ed-4420-a1c4-f2b9e0ce8e5e');\n",
              "          const dataTable =\n",
              "            await google.colab.kernel.invokeFunction('convertToInteractive',\n",
              "                                                     [key], {});\n",
              "          if (!dataTable) return;\n",
              "\n",
              "          const docLinkHtml = 'Like what you see? Visit the ' +\n",
              "            '<a target=\"_blank\" href=https://colab.research.google.com/notebooks/data_table.ipynb>data table notebook</a>'\n",
              "            + ' to learn more about interactive tables.';\n",
              "          element.innerHTML = '';\n",
              "          dataTable['output_type'] = 'display_data';\n",
              "          await google.colab.output.renderOutput(dataTable, element);\n",
              "          const docLink = document.createElement('div');\n",
              "          docLink.innerHTML = docLinkHtml;\n",
              "          element.appendChild(docLink);\n",
              "        }\n",
              "      </script>\n",
              "    </div>\n",
              "  </div>\n",
              "  "
            ]
          },
          "metadata": {},
          "execution_count": 265
        }
      ]
    },
    {
      "cell_type": "markdown",
      "source": [
        "##5c) Plot Important Features"
      ],
      "metadata": {
        "id": "GkzX87I59uGK"
      }
    },
    {
      "cell_type": "code",
      "source": [
        "import matplotlib.pyplot as plt\n",
        "import seaborn as sns\n",
        "%matplotlib inline\n",
        "\n",
        "#Creating a bar plot\n",
        "sns.barplot(x = 1 - result['P-value'], y = result['X'])\n",
        "\n",
        "#Add labels to your graph\n",
        "plt.xlabel('Feature Importance Score')\n",
        "plt.ylabel('Features')\n",
        "plt.title('Visualizing Important Features using Multiple Regression')\n",
        "plt.legend()\n",
        "plt.show()"
      ],
      "metadata": {
        "colab": {
          "base_uri": "https://localhost:8080/",
          "height": 318
        },
        "id": "CcMuZNYS4Opj",
        "outputId": "215822f1-fef8-453a-f4f6-922cf2a63c88"
      },
      "execution_count": 266,
      "outputs": [
        {
          "output_type": "stream",
          "name": "stderr",
          "text": [
            "No handles with labels found to put in legend.\n"
          ]
        },
        {
          "output_type": "display_data",
          "data": {
            "text/plain": [
              "<Figure size 432x288 with 1 Axes>"
            ],
            "image/png": "[encoded data removed]"
          },
          "metadata": {
            "needs_background": "light"
          }
        }
      ]
    },
    {
      "cell_type": "markdown",
      "source": [
        "From the Mutliple Regression Model, we see that the TOP 5 important columns are:\n",
        "- Funded Amount\n",
        "- Installment\n",
        "- Total Payment Inventory\n",
        "- Interest Rate\n",
        "- Total Payment"
      ],
      "metadata": {
        "id": "CwD43RyF91UL"
      }
    },
    {
      "cell_type": "markdown",
      "source": [
        "\n",
        "\n",
        "---\n",
        "\n"
      ],
      "metadata": {
        "id": "60CQt7m6-It6"
      }
    },
    {
      "cell_type": "markdown",
      "source": [
        "#Step 6: Fish Out Those Important Columns that are Shared Between \"Random Forest Classifier\" and \"Multiple Regression\" "
      ],
      "metadata": {
        "id": "VbwclYxq-vMS"
      }
    },
    {
      "cell_type": "markdown",
      "source": [
        "From the Random Forest Classifier, we see that the TOP 5 important columns are:\n",
        "- Funded Amount\n",
        "- Funded Amount Inventory\n",
        "- Installment\n",
        "- Total Received Principle\n",
        "- Total Payment\n",
        "\n"
      ],
      "metadata": {
        "id": "xx_a1nYR_BQq"
      }
    },
    {
      "cell_type": "markdown",
      "source": [
        "From the Mutliple Regression Model, we see that the TOP 5 important columns are:\n",
        "- Funded Amount\n",
        "- Installment\n",
        "- Total Payment Inventory\n",
        "- Interest Rate\n",
        "- Total Payment"
      ],
      "metadata": {
        "id": "6k3_kg04_Dva"
      }
    },
    {
      "cell_type": "code",
      "source": [
        "#The shared TOP Columns are:\n",
        "#No. 1 --> Funded Amount\n",
        "#No. 2 --> Installment\n",
        "#No. 3 --> Total Payment"
      ],
      "metadata": {
        "id": "uj90J_dv_E3d"
      },
      "execution_count": null,
      "outputs": []
    },
    {
      "cell_type": "markdown",
      "source": [
        "\n",
        "\n",
        "---\n",
        "\n"
      ],
      "metadata": {
        "id": "PdgIXV7E_Sfs"
      }
    },
    {
      "cell_type": "markdown",
      "source": [
        "#THE END"
      ],
      "metadata": {
        "id": "TKvlXMiZ-Jna"
      }
    }
  ]
}