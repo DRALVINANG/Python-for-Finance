{
  "nbformat": 4,
  "nbformat_minor": 0,
  "metadata": {
    "colab": {
      "name": "Train Test Split the Lending Club Loan Dataset by Dr Alvin Ang.ipynb",
      "provenance": [],
      "collapsed_sections": [],
      "toc_visible": true
    },
    "kernelspec": {
      "name": "python3",
      "display_name": "Python 3"
    },
    "language_info": {
      "name": "python"
    }
  },
  "cells": [
    {
      "cell_type": "markdown",
      "source": [
        "#Method 1: Normal Way of Train Test Split (Using Scikit Learn)"
      ],
      "metadata": {
        "id": "sUVITaTGgwJ0"
      }
    },
    {
      "cell_type": "markdown",
      "source": [
        "- For our 1st method, we will be using this dataset:\n",
        "https://www.alvinang.sg/s/LendingClubLoan200-rows.csv"
      ],
      "metadata": {
        "id": "oTl7pYXJdvkt"
      }
    },
    {
      "cell_type": "markdown",
      "source": [
        "##Step 1: Reading in the Data"
      ],
      "metadata": {
        "id": "QyY1d4X0eQmB"
      }
    },
    {
      "cell_type": "markdown",
      "source": [
        "###1a) Import All Libraries"
      ],
      "metadata": {
        "id": "v6DIqhdqeUo0"
      }
    },
    {
      "cell_type": "code",
      "source": [
        "import numpy as np\n",
        "import pandas as pd"
      ],
      "metadata": {
        "id": "5mIPltRGeX-R"
      },
      "execution_count": 1,
      "outputs": []
    },
    {
      "cell_type": "markdown",
      "source": [
        "###1b) Browsing the Columns"
      ],
      "metadata": {
        "id": "p1-rRVMoei0E"
      }
    },
    {
      "cell_type": "code",
      "source": [
        "loans = pd.read_csv('https://www.alvinang.sg/s/LendingClubLoan200-rows.csv')"
      ],
      "metadata": {
        "id": "3oHUSq8lelIs"
      },
      "execution_count": 2,
      "outputs": []
    },
    {
      "cell_type": "code",
      "source": [
        "loans.info()"
      ],
      "metadata": {
        "colab": {
          "base_uri": "https://localhost:8080/"
        },
        "id": "Zr7mAXm-ewJ9",
        "outputId": "e5a57eec-25b1-4ef9-86eb-1266cf2485b1"
      },
      "execution_count": 3,
      "outputs": [
        {
          "output_type": "stream",
          "name": "stdout",
          "text": [
            "<class 'pandas.core.frame.DataFrame'>\n",
            "RangeIndex: 199 entries, 0 to 198\n",
            "Data columns (total 74 columns):\n",
            " #   Column                       Non-Null Count  Dtype  \n",
            "---  ------                       --------------  -----  \n",
            " 0   id                           199 non-null    int64  \n",
            " 1   member_id                    199 non-null    int64  \n",
            " 2   loan_amnt                    199 non-null    int64  \n",
            " 3   funded_amnt                  199 non-null    int64  \n",
            " 4   funded_amnt_inv              199 non-null    float64\n",
            " 5   term                         199 non-null    object \n",
            " 6   int_rate                     199 non-null    float64\n",
            " 7   installment                  199 non-null    float64\n",
            " 8   grade                        199 non-null    object \n",
            " 9   sub_grade                    199 non-null    object \n",
            " 10  emp_title                    190 non-null    object \n",
            " 11  emp_length                   198 non-null    object \n",
            " 12  home_ownership               199 non-null    object \n",
            " 13  annual_inc                   199 non-null    float64\n",
            " 14  verification_status          199 non-null    object \n",
            " 15  issue_d                      199 non-null    object \n",
            " 16  loan_status                  199 non-null    object \n",
            " 17  pymnt_plan                   199 non-null    object \n",
            " 18  url                          199 non-null    object \n",
            " 19  desc                         129 non-null    object \n",
            " 20  purpose                      199 non-null    object \n",
            " 21  title                        199 non-null    object \n",
            " 22  zip_code                     199 non-null    object \n",
            " 23  addr_state                   199 non-null    object \n",
            " 24  dti                          199 non-null    object \n",
            " 25  delinq_2yrs                  199 non-null    float64\n",
            " 26  earliest_cr_line             199 non-null    object \n",
            " 27  inq_last_6mths               199 non-null    object \n",
            " 28  mths_since_last_delinq       47 non-null     float64\n",
            " 29  mths_since_last_record       5 non-null      float64\n",
            " 30  open_acc                     198 non-null    float64\n",
            " 31  pub_rec                      199 non-null    int64  \n",
            " 32  revol_bal                    199 non-null    int64  \n",
            " 33  revol_util                   199 non-null    float64\n",
            " 34  total_acc                    199 non-null    float64\n",
            " 35  initial_list_status          199 non-null    object \n",
            " 36  out_prncp                    199 non-null    object \n",
            " 37  out_prncp_inv                199 non-null    float64\n",
            " 38  total_pymnt                  199 non-null    float64\n",
            " 39  total_pymnt_inv              199 non-null    float64\n",
            " 40  total_rec_prncp              199 non-null    float64\n",
            " 41  total_rec_int                199 non-null    float64\n",
            " 42  total_rec_late_fee           199 non-null    float64\n",
            " 43  recoveries                   199 non-null    float64\n",
            " 44  collection_recovery_fee      199 non-null    float64\n",
            " 45  last_pymnt_d                 198 non-null    object \n",
            " 46  last_pymnt_amnt              199 non-null    object \n",
            " 47  next_pymnt_d                 14 non-null     object \n",
            " 48  last_credit_pull_d           198 non-null    object \n",
            " 49  collections_12_mths_ex_med   199 non-null    object \n",
            " 50  mths_since_last_major_derog  1 non-null      float64\n",
            " 51  policy_code                  198 non-null    float64\n",
            " 52  application_type             199 non-null    object \n",
            " 53  annual_inc_joint             1 non-null      object \n",
            " 54  dti_joint                    0 non-null      float64\n",
            " 55  verification_status_joint    0 non-null      float64\n",
            " 56  acc_now_delinq               198 non-null    float64\n",
            " 57  tot_coll_amt                 1 non-null      float64\n",
            " 58  tot_cur_bal                  0 non-null      float64\n",
            " 59  open_acc_6m                  0 non-null      float64\n",
            " 60  open_il_6m                   0 non-null      float64\n",
            " 61  open_il_12m                  0 non-null      float64\n",
            " 62  open_il_24m                  0 non-null      float64\n",
            " 63  mths_since_rcnt_il           0 non-null      float64\n",
            " 64  total_bal_il                 0 non-null      float64\n",
            " 65  il_util                      0 non-null      float64\n",
            " 66  open_rv_12m                  0 non-null      float64\n",
            " 67  open_rv_24m                  0 non-null      float64\n",
            " 68  max_bal_bc                   0 non-null      float64\n",
            " 69  all_util                     0 non-null      float64\n",
            " 70  total_rev_hi_lim             0 non-null      float64\n",
            " 71  inq_fi                       0 non-null      float64\n",
            " 72  total_cu_tl                  0 non-null      float64\n",
            " 73  inq_last_12m                 0 non-null      float64\n",
            "dtypes: float64(40), int64(6), object(28)\n",
            "memory usage: 115.2+ KB\n"
          ]
        }
      ]
    },
    {
      "cell_type": "markdown",
      "source": [
        "\n",
        "\n",
        "---\n",
        "\n"
      ],
      "metadata": {
        "id": "0tZ9RD4inmZU"
      }
    },
    {
      "cell_type": "markdown",
      "source": [
        "##Step 2: Selecting Columns"
      ],
      "metadata": {
        "id": "zHdIJmsVhTn0"
      }
    },
    {
      "cell_type": "code",
      "execution_count": 4,
      "metadata": {
        "id": "O11uOPmLdgol"
      },
      "outputs": [],
      "source": [
        "X = loans[['addr_state',\n",
        "           'term',\n",
        "           'int_rate', \n",
        "           'installment', \n",
        "           'sub_grade',\n",
        "           'home_ownership']]\n",
        "\n",
        "y = loans['loan_amnt'] \n",
        "\n",
        "#Presume we have decided to select those columns above as the important ones\n",
        "#X are the Predictors while y is the Target (or Prediction)\n",
        "#in other words, 'X' are the variables that will help us predict 'y'."
      ]
    },
    {
      "cell_type": "code",
      "source": [
        "X.info()\n",
        "\n",
        "#X has 6 columns and 199 rows"
      ],
      "metadata": {
        "colab": {
          "base_uri": "https://localhost:8080/"
        },
        "id": "T7IvWiVmftOd",
        "outputId": "a9394c7b-4e05-478c-8182-3444c4eb3a90"
      },
      "execution_count": 16,
      "outputs": [
        {
          "output_type": "stream",
          "name": "stdout",
          "text": [
            "<class 'pandas.core.frame.DataFrame'>\n",
            "RangeIndex: 199 entries, 0 to 198\n",
            "Data columns (total 6 columns):\n",
            " #   Column          Non-Null Count  Dtype  \n",
            "---  ------          --------------  -----  \n",
            " 0   addr_state      199 non-null    object \n",
            " 1   term            199 non-null    object \n",
            " 2   int_rate        199 non-null    float64\n",
            " 3   installment     199 non-null    float64\n",
            " 4   sub_grade       199 non-null    object \n",
            " 5   home_ownership  199 non-null    object \n",
            "dtypes: float64(2), object(4)\n",
            "memory usage: 9.5+ KB\n"
          ]
        }
      ]
    },
    {
      "cell_type": "code",
      "source": [
        "y\n",
        "\n",
        "#y has 1 column and 199 rows"
      ],
      "metadata": {
        "colab": {
          "base_uri": "https://localhost:8080/"
        },
        "id": "EYb4XB5Wfvwd",
        "outputId": "3b55f7dc-7400-435d-cfb8-eb642b073e43"
      },
      "execution_count": 19,
      "outputs": [
        {
          "output_type": "execute_result",
          "data": {
            "text/plain": [
              "0       5000\n",
              "1       2500\n",
              "2       2400\n",
              "3      10000\n",
              "4       3000\n",
              "       ...  \n",
              "194    14000\n",
              "195    12000\n",
              "196    25000\n",
              "197     9000\n",
              "198    13250\n",
              "Name: loan_amnt, Length: 199, dtype: int64"
            ]
          },
          "metadata": {},
          "execution_count": 19
        }
      ]
    },
    {
      "cell_type": "markdown",
      "source": [
        "\n",
        "\n",
        "---\n",
        "\n"
      ],
      "metadata": {
        "id": "c6ws13M-noj9"
      }
    },
    {
      "cell_type": "markdown",
      "source": [
        "##Step 3: Using Scikit Learn to do Train Test Split"
      ],
      "metadata": {
        "id": "SC-E3jSIjSTl"
      }
    },
    {
      "cell_type": "code",
      "source": [
        "from sklearn.model_selection import train_test_split\n",
        "\n",
        "X_train, X_test, y_train, y_test = train_test_split(X, y, test_size = 0.2)\n",
        "\n",
        "#we decide upon a 20% (test) 80% (train) split"
      ],
      "metadata": {
        "id": "pw08xaN0fcsF"
      },
      "execution_count": 7,
      "outputs": []
    },
    {
      "cell_type": "markdown",
      "source": [
        "###3a) Previewing X_train"
      ],
      "metadata": {
        "id": "UHPoJfGyjbvE"
      }
    },
    {
      "cell_type": "code",
      "source": [
        "X_train.info()\n",
        "\n",
        "#X_train has 159 rows"
      ],
      "metadata": {
        "colab": {
          "base_uri": "https://localhost:8080/"
        },
        "id": "gOYJxy27fzP9",
        "outputId": "b16a945b-c4a9-4477-808e-cf97c0611fb5"
      },
      "execution_count": 15,
      "outputs": [
        {
          "output_type": "stream",
          "name": "stdout",
          "text": [
            "<class 'pandas.core.frame.DataFrame'>\n",
            "Int64Index: 159 entries, 133 to 59\n",
            "Data columns (total 6 columns):\n",
            " #   Column          Non-Null Count  Dtype  \n",
            "---  ------          --------------  -----  \n",
            " 0   addr_state      159 non-null    object \n",
            " 1   term            159 non-null    object \n",
            " 2   int_rate        159 non-null    float64\n",
            " 3   installment     159 non-null    float64\n",
            " 4   sub_grade       159 non-null    object \n",
            " 5   home_ownership  159 non-null    object \n",
            "dtypes: float64(2), object(4)\n",
            "memory usage: 8.7+ KB\n"
          ]
        }
      ]
    },
    {
      "cell_type": "code",
      "source": [
        "X_train\n",
        "\n",
        "#you can see that the data has been randomized after splitting\n",
        "#because the row numbers are not in order!!!"
      ],
      "metadata": {
        "colab": {
          "base_uri": "https://localhost:8080/",
          "height": 423
        },
        "id": "BnO3g4iig5-e",
        "outputId": "ca776d1b-f509-413c-ce7a-26372c1755fb"
      },
      "execution_count": 20,
      "outputs": [
        {
          "output_type": "execute_result",
          "data": {
            "text/plain": [
              "    addr_state        term  int_rate  installment sub_grade home_ownership\n",
              "133         PA   36 months     14.65       172.48        C3           RENT\n",
              "92          NY   60 months     19.42       214.62        E3           RENT\n",
              "159         OR   36 months     12.42       267.33        B4           RENT\n",
              "101         KS   60 months     17.58       402.65        D4           RENT\n",
              "178         NY   36 months     12.42       320.79        B4           RENT\n",
              "..         ...         ...       ...          ...       ...            ...\n",
              "57          OR   36 months     12.42       334.16        B4            OWN\n",
              "134         MD   36 months      6.62       271.73        A2           RENT\n",
              "194         VA   36 months      6.62       429.86        A2           RENT\n",
              "74          NY   36 months      8.90       457.25        A5            OWN\n",
              "59          TX   36 months     16.77       252.33        D2       MORTGAGE\n",
              "\n",
              "[159 rows x 6 columns]"
            ],
            "text/html": [
              "\n",
              "  <div id=\"df-220195ff-bc79-4fdd-a910-fc203bdb4cb6\">\n",
              "    <div class=\"colab-df-container\">\n",
              "      <div>\n",
              "<style scoped>\n",
              "    .dataframe tbody tr th:only-of-type {\n",
              "        vertical-align: middle;\n",
              "    }\n",
              "\n",
              "    .dataframe tbody tr th {\n",
              "        vertical-align: top;\n",
              "    }\n",
              "\n",
              "    .dataframe thead th {\n",
              "        text-align: right;\n",
              "    }\n",
              "</style>\n",
              "<table border=\"1\" class=\"dataframe\">\n",
              "  <thead>\n",
              "    <tr style=\"text-align: right;\">\n",
              "      <th></th>\n",
              "      <th>addr_state</th>\n",
              "      <th>term</th>\n",
              "      <th>int_rate</th>\n",
              "      <th>installment</th>\n",
              "      <th>sub_grade</th>\n",
              "      <th>home_ownership</th>\n",
              "    </tr>\n",
              "  </thead>\n",
              "  <tbody>\n",
              "    <tr>\n",
              "      <th>133</th>\n",
              "      <td>PA</td>\n",
              "      <td>36 months</td>\n",
              "      <td>14.65</td>\n",
              "      <td>172.48</td>\n",
              "      <td>C3</td>\n",
              "      <td>RENT</td>\n",
              "    </tr>\n",
              "    <tr>\n",
              "      <th>92</th>\n",
              "      <td>NY</td>\n",
              "      <td>60 months</td>\n",
              "      <td>19.42</td>\n",
              "      <td>214.62</td>\n",
              "      <td>E3</td>\n",
              "      <td>RENT</td>\n",
              "    </tr>\n",
              "    <tr>\n",
              "      <th>159</th>\n",
              "      <td>OR</td>\n",
              "      <td>36 months</td>\n",
              "      <td>12.42</td>\n",
              "      <td>267.33</td>\n",
              "      <td>B4</td>\n",
              "      <td>RENT</td>\n",
              "    </tr>\n",
              "    <tr>\n",
              "      <th>101</th>\n",
              "      <td>KS</td>\n",
              "      <td>60 months</td>\n",
              "      <td>17.58</td>\n",
              "      <td>402.65</td>\n",
              "      <td>D4</td>\n",
              "      <td>RENT</td>\n",
              "    </tr>\n",
              "    <tr>\n",
              "      <th>178</th>\n",
              "      <td>NY</td>\n",
              "      <td>36 months</td>\n",
              "      <td>12.42</td>\n",
              "      <td>320.79</td>\n",
              "      <td>B4</td>\n",
              "      <td>RENT</td>\n",
              "    </tr>\n",
              "    <tr>\n",
              "      <th>...</th>\n",
              "      <td>...</td>\n",
              "      <td>...</td>\n",
              "      <td>...</td>\n",
              "      <td>...</td>\n",
              "      <td>...</td>\n",
              "      <td>...</td>\n",
              "    </tr>\n",
              "    <tr>\n",
              "      <th>57</th>\n",
              "      <td>OR</td>\n",
              "      <td>36 months</td>\n",
              "      <td>12.42</td>\n",
              "      <td>334.16</td>\n",
              "      <td>B4</td>\n",
              "      <td>OWN</td>\n",
              "    </tr>\n",
              "    <tr>\n",
              "      <th>134</th>\n",
              "      <td>MD</td>\n",
              "      <td>36 months</td>\n",
              "      <td>6.62</td>\n",
              "      <td>271.73</td>\n",
              "      <td>A2</td>\n",
              "      <td>RENT</td>\n",
              "    </tr>\n",
              "    <tr>\n",
              "      <th>194</th>\n",
              "      <td>VA</td>\n",
              "      <td>36 months</td>\n",
              "      <td>6.62</td>\n",
              "      <td>429.86</td>\n",
              "      <td>A2</td>\n",
              "      <td>RENT</td>\n",
              "    </tr>\n",
              "    <tr>\n",
              "      <th>74</th>\n",
              "      <td>NY</td>\n",
              "      <td>36 months</td>\n",
              "      <td>8.90</td>\n",
              "      <td>457.25</td>\n",
              "      <td>A5</td>\n",
              "      <td>OWN</td>\n",
              "    </tr>\n",
              "    <tr>\n",
              "      <th>59</th>\n",
              "      <td>TX</td>\n",
              "      <td>36 months</td>\n",
              "      <td>16.77</td>\n",
              "      <td>252.33</td>\n",
              "      <td>D2</td>\n",
              "      <td>MORTGAGE</td>\n",
              "    </tr>\n",
              "  </tbody>\n",
              "</table>\n",
              "<p>159 rows × 6 columns</p>\n",
              "</div>\n",
              "      <button class=\"colab-df-convert\" onclick=\"convertToInteractive('df-220195ff-bc79-4fdd-a910-fc203bdb4cb6')\"\n",
              "              title=\"Convert this dataframe to an interactive table.\"\n",
              "              style=\"display:none;\">\n",
              "        \n",
              "  <svg xmlns=\"http://www.w3.org/2000/svg\" height=\"24px\"viewBox=\"0 0 24 24\"\n",
              "       width=\"24px\">\n",
              "    <path d=\"M0 0h24v24H0V0z\" fill=\"none\"/>\n",
              "    <path d=\"M18.56 5.44l.94 2.06.94-2.06 2.06-.94-2.06-.94-.94-2.06-.94 2.06-2.06.94zm-11 1L8.5 8.5l.94-2.06 2.06-.94-2.06-.94L8.5 2.5l-.94 2.06-2.06.94zm10 10l.94 2.06.94-2.06 2.06-.94-2.06-.94-.94-2.06-.94 2.06-2.06.94z\"/><path d=\"M17.41 7.96l-1.37-1.37c-.4-.4-.92-.59-1.43-.59-.52 0-1.04.2-1.43.59L10.3 9.45l-7.72 7.72c-.78.78-.78 2.05 0 2.83L4 21.41c.39.39.9.59 1.41.59.51 0 1.02-.2 1.41-.59l7.78-7.78 2.81-2.81c.8-.78.8-2.07 0-2.86zM5.41 20L4 18.59l7.72-7.72 1.47 1.35L5.41 20z\"/>\n",
              "  </svg>\n",
              "      </button>\n",
              "      \n",
              "  <style>\n",
              "    .colab-df-container {\n",
              "      display:flex;\n",
              "      flex-wrap:wrap;\n",
              "      gap: 12px;\n",
              "    }\n",
              "\n",
              "    .colab-df-convert {\n",
              "      background-color: #E8F0FE;\n",
              "      border: none;\n",
              "      border-radius: 50%;\n",
              "      cursor: pointer;\n",
              "      display: none;\n",
              "      fill: #1967D2;\n",
              "      height: 32px;\n",
              "      padding: 0 0 0 0;\n",
              "      width: 32px;\n",
              "    }\n",
              "\n",
              "    .colab-df-convert:hover {\n",
              "      background-color: #E2EBFA;\n",
              "      box-shadow: 0px 1px 2px rgba(60, 64, 67, 0.3), 0px 1px 3px 1px rgba(60, 64, 67, 0.15);\n",
              "      fill: #174EA6;\n",
              "    }\n",
              "\n",
              "    [theme=dark] .colab-df-convert {\n",
              "      background-color: #3B4455;\n",
              "      fill: #D2E3FC;\n",
              "    }\n",
              "\n",
              "    [theme=dark] .colab-df-convert:hover {\n",
              "      background-color: #434B5C;\n",
              "      box-shadow: 0px 1px 3px 1px rgba(0, 0, 0, 0.15);\n",
              "      filter: drop-shadow(0px 1px 2px rgba(0, 0, 0, 0.3));\n",
              "      fill: #FFFFFF;\n",
              "    }\n",
              "  </style>\n",
              "\n",
              "      <script>\n",
              "        const buttonEl =\n",
              "          document.querySelector('#df-220195ff-bc79-4fdd-a910-fc203bdb4cb6 button.colab-df-convert');\n",
              "        buttonEl.style.display =\n",
              "          google.colab.kernel.accessAllowed ? 'block' : 'none';\n",
              "\n",
              "        async function convertToInteractive(key) {\n",
              "          const element = document.querySelector('#df-220195ff-bc79-4fdd-a910-fc203bdb4cb6');\n",
              "          const dataTable =\n",
              "            await google.colab.kernel.invokeFunction('convertToInteractive',\n",
              "                                                     [key], {});\n",
              "          if (!dataTable) return;\n",
              "\n",
              "          const docLinkHtml = 'Like what you see? Visit the ' +\n",
              "            '<a target=\"_blank\" href=https://colab.research.google.com/notebooks/data_table.ipynb>data table notebook</a>'\n",
              "            + ' to learn more about interactive tables.';\n",
              "          element.innerHTML = '';\n",
              "          dataTable['output_type'] = 'display_data';\n",
              "          await google.colab.output.renderOutput(dataTable, element);\n",
              "          const docLink = document.createElement('div');\n",
              "          docLink.innerHTML = docLinkHtml;\n",
              "          element.appendChild(docLink);\n",
              "        }\n",
              "      </script>\n",
              "    </div>\n",
              "  </div>\n",
              "  "
            ]
          },
          "metadata": {},
          "execution_count": 20
        }
      ]
    },
    {
      "cell_type": "markdown",
      "source": [
        "##3b) Previewing X_test"
      ],
      "metadata": {
        "id": "eQzK3_nIjgNU"
      }
    },
    {
      "cell_type": "code",
      "source": [
        "X_test.info()\n",
        "\n",
        "#X_test has 40 rows (after splitting... 20% of 200 rows....)"
      ],
      "metadata": {
        "colab": {
          "base_uri": "https://localhost:8080/"
        },
        "id": "4JLOkOMGf7Fs",
        "outputId": "23171b8f-3acb-46d1-a533-61c5a7c3b4a8"
      },
      "execution_count": 14,
      "outputs": [
        {
          "output_type": "stream",
          "name": "stdout",
          "text": [
            "<class 'pandas.core.frame.DataFrame'>\n",
            "Int64Index: 40 entries, 162 to 28\n",
            "Data columns (total 6 columns):\n",
            " #   Column          Non-Null Count  Dtype  \n",
            "---  ------          --------------  -----  \n",
            " 0   addr_state      40 non-null     object \n",
            " 1   term            40 non-null     object \n",
            " 2   int_rate        40 non-null     float64\n",
            " 3   installment     40 non-null     float64\n",
            " 4   sub_grade       40 non-null     object \n",
            " 5   home_ownership  40 non-null     object \n",
            "dtypes: float64(2), object(4)\n",
            "memory usage: 2.2+ KB\n"
          ]
        }
      ]
    },
    {
      "cell_type": "code",
      "source": [
        "X_test\n",
        "\n",
        "#once again, the rows are not in order.. they have been randomized..."
      ],
      "metadata": {
        "colab": {
          "base_uri": "https://localhost:8080/",
          "height": 1000
        },
        "id": "SjMNLod3hAft",
        "outputId": "c866b22e-d7b6-4b85-a592-aa73a0c534a2"
      },
      "execution_count": 21,
      "outputs": [
        {
          "output_type": "execute_result",
          "data": {
            "text/plain": [
              "    addr_state        term  int_rate  installment sub_grade home_ownership\n",
              "162         VT   36 months      9.91       322.25        B1            OWN\n",
              "102         NJ   36 months      8.90       190.52        A5            OWN\n",
              "141         MD   36 months     11.71       138.92        B3           RENT\n",
              "85          CA   36 months     12.42       307.43        B4           RENT\n",
              "161         FL   36 months     17.27       536.81        D3       MORTGAGE\n",
              "160         GA   60 months     15.27       382.92        C4           RENT\n",
              "144         CA   36 months      9.91       435.04        B1           RENT\n",
              "64          OH   60 months     10.65       215.69        B2           RENT\n",
              "35          KY   36 months     10.65       403.91        B2           RENT\n",
              "142         CA   36 months     14.27       480.33        C2           RENT\n",
              "189         VA   36 months     12.69       452.86        B5           RENT\n",
              "129         NJ   36 months      7.51       311.11        A3           RENT\n",
              "12          VA   36 months     13.49       305.38        C1           RENT\n",
              "15          MO   36 months     16.29        35.31        D1           RENT\n",
              "0           AZ   36 months     10.65       162.87        B2           RENT\n",
              "149         IL   60 months     16.77       208.97        D2            OWN\n",
              "173         FL   36 months     12.69       245.72        B5           RENT\n",
              "185         TX   36 months     10.65      1140.07        B2       MORTGAGE\n",
              "120         AK   60 months     13.49       575.12        C1       MORTGAGE\n",
              "168         CA   36 months      7.51        77.78        A3            OWN\n",
              "145         MN   36 months      9.91       386.70        B1           RENT\n",
              "50          IL   36 months      9.91       483.38        B1       MORTGAGE\n",
              "7           CA   36 months     18.64       109.43        E1           RENT\n",
              "137         PA   36 months      6.62       340.82        A2           RENT\n",
              "108         AZ   36 months     13.49       203.59        C1           RENT\n",
              "190         WA   36 months     12.69       805.08        B5           RENT\n",
              "172         WA   36 months     13.49        84.83        C1           RENT\n",
              "195         NY   36 months     14.27       411.71        C2       MORTGAGE\n",
              "104         TX   36 months      8.90       301.66        A5       MORTGAGE\n",
              "181         CA   36 months     12.42       446.10        B4           RENT\n",
              "17          CT   36 months      6.03       109.57        A1       MORTGAGE\n",
              "170         NJ   36 months     12.42       835.39        B4           RENT\n",
              "110         CT   36 months      6.62       168.88        A2       MORTGAGE\n",
              "116         CA   36 months      8.90       317.54        A5           RENT\n",
              "171         CA   36 months     13.49       339.31        C1           RENT\n",
              "97          WA   60 months     17.27       437.47        D3       MORTGAGE\n",
              "100         CA   36 months      9.91       199.80        B1           RENT\n",
              "43          RI   36 months     16.77       156.37        D2           RENT\n",
              "115         NV   36 months     11.71       264.61        B3       MORTGAGE\n",
              "28          FL   36 months     11.71       132.31        B3       MORTGAGE"
            ],
            "text/html": [
              "\n",
              "  <div id=\"df-77563b1a-7edb-4372-841e-3057f5df5e61\">\n",
              "    <div class=\"colab-df-container\">\n",
              "      <div>\n",
              "<style scoped>\n",
              "    .dataframe tbody tr th:only-of-type {\n",
              "        vertical-align: middle;\n",
              "    }\n",
              "\n",
              "    .dataframe tbody tr th {\n",
              "        vertical-align: top;\n",
              "    }\n",
              "\n",
              "    .dataframe thead th {\n",
              "        text-align: right;\n",
              "    }\n",
              "</style>\n",
              "<table border=\"1\" class=\"dataframe\">\n",
              "  <thead>\n",
              "    <tr style=\"text-align: right;\">\n",
              "      <th></th>\n",
              "      <th>addr_state</th>\n",
              "      <th>term</th>\n",
              "      <th>int_rate</th>\n",
              "      <th>installment</th>\n",
              "      <th>sub_grade</th>\n",
              "      <th>home_ownership</th>\n",
              "    </tr>\n",
              "  </thead>\n",
              "  <tbody>\n",
              "    <tr>\n",
              "      <th>162</th>\n",
              "      <td>VT</td>\n",
              "      <td>36 months</td>\n",
              "      <td>9.91</td>\n",
              "      <td>322.25</td>\n",
              "      <td>B1</td>\n",
              "      <td>OWN</td>\n",
              "    </tr>\n",
              "    <tr>\n",
              "      <th>102</th>\n",
              "      <td>NJ</td>\n",
              "      <td>36 months</td>\n",
              "      <td>8.90</td>\n",
              "      <td>190.52</td>\n",
              "      <td>A5</td>\n",
              "      <td>OWN</td>\n",
              "    </tr>\n",
              "    <tr>\n",
              "      <th>141</th>\n",
              "      <td>MD</td>\n",
              "      <td>36 months</td>\n",
              "      <td>11.71</td>\n",
              "      <td>138.92</td>\n",
              "      <td>B3</td>\n",
              "      <td>RENT</td>\n",
              "    </tr>\n",
              "    <tr>\n",
              "      <th>85</th>\n",
              "      <td>CA</td>\n",
              "      <td>36 months</td>\n",
              "      <td>12.42</td>\n",
              "      <td>307.43</td>\n",
              "      <td>B4</td>\n",
              "      <td>RENT</td>\n",
              "    </tr>\n",
              "    <tr>\n",
              "      <th>161</th>\n",
              "      <td>FL</td>\n",
              "      <td>36 months</td>\n",
              "      <td>17.27</td>\n",
              "      <td>536.81</td>\n",
              "      <td>D3</td>\n",
              "      <td>MORTGAGE</td>\n",
              "    </tr>\n",
              "    <tr>\n",
              "      <th>160</th>\n",
              "      <td>GA</td>\n",
              "      <td>60 months</td>\n",
              "      <td>15.27</td>\n",
              "      <td>382.92</td>\n",
              "      <td>C4</td>\n",
              "      <td>RENT</td>\n",
              "    </tr>\n",
              "    <tr>\n",
              "      <th>144</th>\n",
              "      <td>CA</td>\n",
              "      <td>36 months</td>\n",
              "      <td>9.91</td>\n",
              "      <td>435.04</td>\n",
              "      <td>B1</td>\n",
              "      <td>RENT</td>\n",
              "    </tr>\n",
              "    <tr>\n",
              "      <th>64</th>\n",
              "      <td>OH</td>\n",
              "      <td>60 months</td>\n",
              "      <td>10.65</td>\n",
              "      <td>215.69</td>\n",
              "      <td>B2</td>\n",
              "      <td>RENT</td>\n",
              "    </tr>\n",
              "    <tr>\n",
              "      <th>35</th>\n",
              "      <td>KY</td>\n",
              "      <td>36 months</td>\n",
              "      <td>10.65</td>\n",
              "      <td>403.91</td>\n",
              "      <td>B2</td>\n",
              "      <td>RENT</td>\n",
              "    </tr>\n",
              "    <tr>\n",
              "      <th>142</th>\n",
              "      <td>CA</td>\n",
              "      <td>36 months</td>\n",
              "      <td>14.27</td>\n",
              "      <td>480.33</td>\n",
              "      <td>C2</td>\n",
              "      <td>RENT</td>\n",
              "    </tr>\n",
              "    <tr>\n",
              "      <th>189</th>\n",
              "      <td>VA</td>\n",
              "      <td>36 months</td>\n",
              "      <td>12.69</td>\n",
              "      <td>452.86</td>\n",
              "      <td>B5</td>\n",
              "      <td>RENT</td>\n",
              "    </tr>\n",
              "    <tr>\n",
              "      <th>129</th>\n",
              "      <td>NJ</td>\n",
              "      <td>36 months</td>\n",
              "      <td>7.51</td>\n",
              "      <td>311.11</td>\n",
              "      <td>A3</td>\n",
              "      <td>RENT</td>\n",
              "    </tr>\n",
              "    <tr>\n",
              "      <th>12</th>\n",
              "      <td>VA</td>\n",
              "      <td>36 months</td>\n",
              "      <td>13.49</td>\n",
              "      <td>305.38</td>\n",
              "      <td>C1</td>\n",
              "      <td>RENT</td>\n",
              "    </tr>\n",
              "    <tr>\n",
              "      <th>15</th>\n",
              "      <td>MO</td>\n",
              "      <td>36 months</td>\n",
              "      <td>16.29</td>\n",
              "      <td>35.31</td>\n",
              "      <td>D1</td>\n",
              "      <td>RENT</td>\n",
              "    </tr>\n",
              "    <tr>\n",
              "      <th>0</th>\n",
              "      <td>AZ</td>\n",
              "      <td>36 months</td>\n",
              "      <td>10.65</td>\n",
              "      <td>162.87</td>\n",
              "      <td>B2</td>\n",
              "      <td>RENT</td>\n",
              "    </tr>\n",
              "    <tr>\n",
              "      <th>149</th>\n",
              "      <td>IL</td>\n",
              "      <td>60 months</td>\n",
              "      <td>16.77</td>\n",
              "      <td>208.97</td>\n",
              "      <td>D2</td>\n",
              "      <td>OWN</td>\n",
              "    </tr>\n",
              "    <tr>\n",
              "      <th>173</th>\n",
              "      <td>FL</td>\n",
              "      <td>36 months</td>\n",
              "      <td>12.69</td>\n",
              "      <td>245.72</td>\n",
              "      <td>B5</td>\n",
              "      <td>RENT</td>\n",
              "    </tr>\n",
              "    <tr>\n",
              "      <th>185</th>\n",
              "      <td>TX</td>\n",
              "      <td>36 months</td>\n",
              "      <td>10.65</td>\n",
              "      <td>1140.07</td>\n",
              "      <td>B2</td>\n",
              "      <td>MORTGAGE</td>\n",
              "    </tr>\n",
              "    <tr>\n",
              "      <th>120</th>\n",
              "      <td>AK</td>\n",
              "      <td>60 months</td>\n",
              "      <td>13.49</td>\n",
              "      <td>575.12</td>\n",
              "      <td>C1</td>\n",
              "      <td>MORTGAGE</td>\n",
              "    </tr>\n",
              "    <tr>\n",
              "      <th>168</th>\n",
              "      <td>CA</td>\n",
              "      <td>36 months</td>\n",
              "      <td>7.51</td>\n",
              "      <td>77.78</td>\n",
              "      <td>A3</td>\n",
              "      <td>OWN</td>\n",
              "    </tr>\n",
              "    <tr>\n",
              "      <th>145</th>\n",
              "      <td>MN</td>\n",
              "      <td>36 months</td>\n",
              "      <td>9.91</td>\n",
              "      <td>386.70</td>\n",
              "      <td>B1</td>\n",
              "      <td>RENT</td>\n",
              "    </tr>\n",
              "    <tr>\n",
              "      <th>50</th>\n",
              "      <td>IL</td>\n",
              "      <td>36 months</td>\n",
              "      <td>9.91</td>\n",
              "      <td>483.38</td>\n",
              "      <td>B1</td>\n",
              "      <td>MORTGAGE</td>\n",
              "    </tr>\n",
              "    <tr>\n",
              "      <th>7</th>\n",
              "      <td>CA</td>\n",
              "      <td>36 months</td>\n",
              "      <td>18.64</td>\n",
              "      <td>109.43</td>\n",
              "      <td>E1</td>\n",
              "      <td>RENT</td>\n",
              "    </tr>\n",
              "    <tr>\n",
              "      <th>137</th>\n",
              "      <td>PA</td>\n",
              "      <td>36 months</td>\n",
              "      <td>6.62</td>\n",
              "      <td>340.82</td>\n",
              "      <td>A2</td>\n",
              "      <td>RENT</td>\n",
              "    </tr>\n",
              "    <tr>\n",
              "      <th>108</th>\n",
              "      <td>AZ</td>\n",
              "      <td>36 months</td>\n",
              "      <td>13.49</td>\n",
              "      <td>203.59</td>\n",
              "      <td>C1</td>\n",
              "      <td>RENT</td>\n",
              "    </tr>\n",
              "    <tr>\n",
              "      <th>190</th>\n",
              "      <td>WA</td>\n",
              "      <td>36 months</td>\n",
              "      <td>12.69</td>\n",
              "      <td>805.08</td>\n",
              "      <td>B5</td>\n",
              "      <td>RENT</td>\n",
              "    </tr>\n",
              "    <tr>\n",
              "      <th>172</th>\n",
              "      <td>WA</td>\n",
              "      <td>36 months</td>\n",
              "      <td>13.49</td>\n",
              "      <td>84.83</td>\n",
              "      <td>C1</td>\n",
              "      <td>RENT</td>\n",
              "    </tr>\n",
              "    <tr>\n",
              "      <th>195</th>\n",
              "      <td>NY</td>\n",
              "      <td>36 months</td>\n",
              "      <td>14.27</td>\n",
              "      <td>411.71</td>\n",
              "      <td>C2</td>\n",
              "      <td>MORTGAGE</td>\n",
              "    </tr>\n",
              "    <tr>\n",
              "      <th>104</th>\n",
              "      <td>TX</td>\n",
              "      <td>36 months</td>\n",
              "      <td>8.90</td>\n",
              "      <td>301.66</td>\n",
              "      <td>A5</td>\n",
              "      <td>MORTGAGE</td>\n",
              "    </tr>\n",
              "    <tr>\n",
              "      <th>181</th>\n",
              "      <td>CA</td>\n",
              "      <td>36 months</td>\n",
              "      <td>12.42</td>\n",
              "      <td>446.10</td>\n",
              "      <td>B4</td>\n",
              "      <td>RENT</td>\n",
              "    </tr>\n",
              "    <tr>\n",
              "      <th>17</th>\n",
              "      <td>CT</td>\n",
              "      <td>36 months</td>\n",
              "      <td>6.03</td>\n",
              "      <td>109.57</td>\n",
              "      <td>A1</td>\n",
              "      <td>MORTGAGE</td>\n",
              "    </tr>\n",
              "    <tr>\n",
              "      <th>170</th>\n",
              "      <td>NJ</td>\n",
              "      <td>36 months</td>\n",
              "      <td>12.42</td>\n",
              "      <td>835.39</td>\n",
              "      <td>B4</td>\n",
              "      <td>RENT</td>\n",
              "    </tr>\n",
              "    <tr>\n",
              "      <th>110</th>\n",
              "      <td>CT</td>\n",
              "      <td>36 months</td>\n",
              "      <td>6.62</td>\n",
              "      <td>168.88</td>\n",
              "      <td>A2</td>\n",
              "      <td>MORTGAGE</td>\n",
              "    </tr>\n",
              "    <tr>\n",
              "      <th>116</th>\n",
              "      <td>CA</td>\n",
              "      <td>36 months</td>\n",
              "      <td>8.90</td>\n",
              "      <td>317.54</td>\n",
              "      <td>A5</td>\n",
              "      <td>RENT</td>\n",
              "    </tr>\n",
              "    <tr>\n",
              "      <th>171</th>\n",
              "      <td>CA</td>\n",
              "      <td>36 months</td>\n",
              "      <td>13.49</td>\n",
              "      <td>339.31</td>\n",
              "      <td>C1</td>\n",
              "      <td>RENT</td>\n",
              "    </tr>\n",
              "    <tr>\n",
              "      <th>97</th>\n",
              "      <td>WA</td>\n",
              "      <td>60 months</td>\n",
              "      <td>17.27</td>\n",
              "      <td>437.47</td>\n",
              "      <td>D3</td>\n",
              "      <td>MORTGAGE</td>\n",
              "    </tr>\n",
              "    <tr>\n",
              "      <th>100</th>\n",
              "      <td>CA</td>\n",
              "      <td>36 months</td>\n",
              "      <td>9.91</td>\n",
              "      <td>199.80</td>\n",
              "      <td>B1</td>\n",
              "      <td>RENT</td>\n",
              "    </tr>\n",
              "    <tr>\n",
              "      <th>43</th>\n",
              "      <td>RI</td>\n",
              "      <td>36 months</td>\n",
              "      <td>16.77</td>\n",
              "      <td>156.37</td>\n",
              "      <td>D2</td>\n",
              "      <td>RENT</td>\n",
              "    </tr>\n",
              "    <tr>\n",
              "      <th>115</th>\n",
              "      <td>NV</td>\n",
              "      <td>36 months</td>\n",
              "      <td>11.71</td>\n",
              "      <td>264.61</td>\n",
              "      <td>B3</td>\n",
              "      <td>MORTGAGE</td>\n",
              "    </tr>\n",
              "    <tr>\n",
              "      <th>28</th>\n",
              "      <td>FL</td>\n",
              "      <td>36 months</td>\n",
              "      <td>11.71</td>\n",
              "      <td>132.31</td>\n",
              "      <td>B3</td>\n",
              "      <td>MORTGAGE</td>\n",
              "    </tr>\n",
              "  </tbody>\n",
              "</table>\n",
              "</div>\n",
              "      <button class=\"colab-df-convert\" onclick=\"convertToInteractive('df-77563b1a-7edb-4372-841e-3057f5df5e61')\"\n",
              "              title=\"Convert this dataframe to an interactive table.\"\n",
              "              style=\"display:none;\">\n",
              "        \n",
              "  <svg xmlns=\"http://www.w3.org/2000/svg\" height=\"24px\"viewBox=\"0 0 24 24\"\n",
              "       width=\"24px\">\n",
              "    <path d=\"M0 0h24v24H0V0z\" fill=\"none\"/>\n",
              "    <path d=\"M18.56 5.44l.94 2.06.94-2.06 2.06-.94-2.06-.94-.94-2.06-.94 2.06-2.06.94zm-11 1L8.5 8.5l.94-2.06 2.06-.94-2.06-.94L8.5 2.5l-.94 2.06-2.06.94zm10 10l.94 2.06.94-2.06 2.06-.94-2.06-.94-.94-2.06-.94 2.06-2.06.94z\"/><path d=\"M17.41 7.96l-1.37-1.37c-.4-.4-.92-.59-1.43-.59-.52 0-1.04.2-1.43.59L10.3 9.45l-7.72 7.72c-.78.78-.78 2.05 0 2.83L4 21.41c.39.39.9.59 1.41.59.51 0 1.02-.2 1.41-.59l7.78-7.78 2.81-2.81c.8-.78.8-2.07 0-2.86zM5.41 20L4 18.59l7.72-7.72 1.47 1.35L5.41 20z\"/>\n",
              "  </svg>\n",
              "      </button>\n",
              "      \n",
              "  <style>\n",
              "    .colab-df-container {\n",
              "      display:flex;\n",
              "      flex-wrap:wrap;\n",
              "      gap: 12px;\n",
              "    }\n",
              "\n",
              "    .colab-df-convert {\n",
              "      background-color: #E8F0FE;\n",
              "      border: none;\n",
              "      border-radius: 50%;\n",
              "      cursor: pointer;\n",
              "      display: none;\n",
              "      fill: #1967D2;\n",
              "      height: 32px;\n",
              "      padding: 0 0 0 0;\n",
              "      width: 32px;\n",
              "    }\n",
              "\n",
              "    .colab-df-convert:hover {\n",
              "      background-color: #E2EBFA;\n",
              "      box-shadow: 0px 1px 2px rgba(60, 64, 67, 0.3), 0px 1px 3px 1px rgba(60, 64, 67, 0.15);\n",
              "      fill: #174EA6;\n",
              "    }\n",
              "\n",
              "    [theme=dark] .colab-df-convert {\n",
              "      background-color: #3B4455;\n",
              "      fill: #D2E3FC;\n",
              "    }\n",
              "\n",
              "    [theme=dark] .colab-df-convert:hover {\n",
              "      background-color: #434B5C;\n",
              "      box-shadow: 0px 1px 3px 1px rgba(0, 0, 0, 0.15);\n",
              "      filter: drop-shadow(0px 1px 2px rgba(0, 0, 0, 0.3));\n",
              "      fill: #FFFFFF;\n",
              "    }\n",
              "  </style>\n",
              "\n",
              "      <script>\n",
              "        const buttonEl =\n",
              "          document.querySelector('#df-77563b1a-7edb-4372-841e-3057f5df5e61 button.colab-df-convert');\n",
              "        buttonEl.style.display =\n",
              "          google.colab.kernel.accessAllowed ? 'block' : 'none';\n",
              "\n",
              "        async function convertToInteractive(key) {\n",
              "          const element = document.querySelector('#df-77563b1a-7edb-4372-841e-3057f5df5e61');\n",
              "          const dataTable =\n",
              "            await google.colab.kernel.invokeFunction('convertToInteractive',\n",
              "                                                     [key], {});\n",
              "          if (!dataTable) return;\n",
              "\n",
              "          const docLinkHtml = 'Like what you see? Visit the ' +\n",
              "            '<a target=\"_blank\" href=https://colab.research.google.com/notebooks/data_table.ipynb>data table notebook</a>'\n",
              "            + ' to learn more about interactive tables.';\n",
              "          element.innerHTML = '';\n",
              "          dataTable['output_type'] = 'display_data';\n",
              "          await google.colab.output.renderOutput(dataTable, element);\n",
              "          const docLink = document.createElement('div');\n",
              "          docLink.innerHTML = docLinkHtml;\n",
              "          element.appendChild(docLink);\n",
              "        }\n",
              "      </script>\n",
              "    </div>\n",
              "  </div>\n",
              "  "
            ]
          },
          "metadata": {},
          "execution_count": 21
        }
      ]
    },
    {
      "cell_type": "markdown",
      "source": [
        "\n",
        "\n",
        "---\n",
        "\n"
      ],
      "metadata": {
        "id": "kSWNUBqlopdc"
      }
    },
    {
      "cell_type": "markdown",
      "source": [
        "#Method 2: Special Way of Train Test Split (Based on Dates)"
      ],
      "metadata": {
        "id": "FtTdJWkVotTr"
      }
    },
    {
      "cell_type": "markdown",
      "source": [
        "##Special Note: \n",
        "- Previously, we took our data from here\n",
        "https://www.alvinang.sg/s/LendingClubLoan200-rows.csv\n",
        "which consisted of only 200 rows.\n",
        "\n",
        "- These 200 rows only contained data for December 2011\n",
        "\n",
        "- We are unable to Split the data based on Date if everything is in Dec 2011!\n",
        "\n",
        "- Thus, we need to use a new dataset...\n",
        "\n",
        "- (the original Lending Club Loan.csv is 1GB and very difficult to import in...)\n",
        "\n",
        "- https://drive.google.com/file/d/1EexLOGcwQvnO_ZX6fC61SQfnRpstTiS3/view?usp=sharing\n",
        "\n",
        "- However, if done carefully, this method can still be applied back to the Lending Club Loan Dataset"
      ],
      "metadata": {
        "id": "MI1m8rNh0frj"
      }
    },
    {
      "cell_type": "markdown",
      "source": [
        "#Credit Card Repayments Dataset\n",
        "- Thus, we use an entirely new dataset....\n",
        "- https://www.kaggle.com/datasets/darpan25bajaj/credit-card-exploratory-data-analysis\n",
        "\n",
        "- https://www.alvinang.sg/s/Repayment.csv"
      ],
      "metadata": {
        "id": "YyPbIVQFzwdI"
      }
    },
    {
      "cell_type": "markdown",
      "source": [
        "##Step 1: Reading in the Data"
      ],
      "metadata": {
        "id": "J_uaOqDURUcu"
      }
    },
    {
      "cell_type": "markdown",
      "source": [
        "\n",
        "###1a) Import All Libraries"
      ],
      "metadata": {
        "id": "b1aAzCGyR9f2"
      }
    },
    {
      "cell_type": "code",
      "source": [
        "import numpy as np\n",
        "import pandas as pd\n",
        "import matplotlib.pyplot as plt"
      ],
      "metadata": {
        "id": "UYOWp1GHsVGe"
      },
      "execution_count": 91,
      "outputs": []
    },
    {
      "cell_type": "code",
      "source": [
        "repayment = pd.read_csv('https://www.alvinang.sg/s/Repayment.csv')"
      ],
      "metadata": {
        "id": "GbeEUyvhsZns"
      },
      "execution_count": 92,
      "outputs": []
    },
    {
      "cell_type": "code",
      "source": [
        "repayment"
      ],
      "metadata": {
        "colab": {
          "base_uri": "https://localhost:8080/",
          "height": 423
        },
        "id": "MKN4bOpxJbGj",
        "outputId": "a163a3cd-94e2-4e19-9a42-293ea02c645e"
      },
      "execution_count": 93,
      "outputs": [
        {
          "output_type": "execute_result",
          "data": {
            "text/plain": [
              "      SL No: Customer      Month     Amount  Unnamed: 4\n",
              "0        NaN       A1  12-Jan-04  495414.75         NaN\n",
              "1        2.0       A1   3-Jan-04  245899.02         NaN\n",
              "2        3.0       A1  15-Jan-04  259490.06         NaN\n",
              "3        4.0       A1  25-Jan-04  437555.12         NaN\n",
              "4        5.0       A1  17-Jan-05  165972.88         NaN\n",
              "...      ...      ...        ...        ...         ...\n",
              "1518     NaN      NaN        NaN        NaN         NaN\n",
              "1519     NaN      NaN        NaN        NaN         NaN\n",
              "1520     NaN      NaN        NaN        NaN         NaN\n",
              "1521     NaN      NaN        NaN        NaN         NaN\n",
              "1522     NaN      NaN        NaN        NaN         NaN\n",
              "\n",
              "[1523 rows x 5 columns]"
            ],
            "text/html": [
              "\n",
              "  <div id=\"df-74fcb8e5-0c52-46db-bf9b-5f3f31ec8f43\">\n",
              "    <div class=\"colab-df-container\">\n",
              "      <div>\n",
              "<style scoped>\n",
              "    .dataframe tbody tr th:only-of-type {\n",
              "        vertical-align: middle;\n",
              "    }\n",
              "\n",
              "    .dataframe tbody tr th {\n",
              "        vertical-align: top;\n",
              "    }\n",
              "\n",
              "    .dataframe thead th {\n",
              "        text-align: right;\n",
              "    }\n",
              "</style>\n",
              "<table border=\"1\" class=\"dataframe\">\n",
              "  <thead>\n",
              "    <tr style=\"text-align: right;\">\n",
              "      <th></th>\n",
              "      <th>SL No:</th>\n",
              "      <th>Customer</th>\n",
              "      <th>Month</th>\n",
              "      <th>Amount</th>\n",
              "      <th>Unnamed: 4</th>\n",
              "    </tr>\n",
              "  </thead>\n",
              "  <tbody>\n",
              "    <tr>\n",
              "      <th>0</th>\n",
              "      <td>NaN</td>\n",
              "      <td>A1</td>\n",
              "      <td>12-Jan-04</td>\n",
              "      <td>495414.75</td>\n",
              "      <td>NaN</td>\n",
              "    </tr>\n",
              "    <tr>\n",
              "      <th>1</th>\n",
              "      <td>2.0</td>\n",
              "      <td>A1</td>\n",
              "      <td>3-Jan-04</td>\n",
              "      <td>245899.02</td>\n",
              "      <td>NaN</td>\n",
              "    </tr>\n",
              "    <tr>\n",
              "      <th>2</th>\n",
              "      <td>3.0</td>\n",
              "      <td>A1</td>\n",
              "      <td>15-Jan-04</td>\n",
              "      <td>259490.06</td>\n",
              "      <td>NaN</td>\n",
              "    </tr>\n",
              "    <tr>\n",
              "      <th>3</th>\n",
              "      <td>4.0</td>\n",
              "      <td>A1</td>\n",
              "      <td>25-Jan-04</td>\n",
              "      <td>437555.12</td>\n",
              "      <td>NaN</td>\n",
              "    </tr>\n",
              "    <tr>\n",
              "      <th>4</th>\n",
              "      <td>5.0</td>\n",
              "      <td>A1</td>\n",
              "      <td>17-Jan-05</td>\n",
              "      <td>165972.88</td>\n",
              "      <td>NaN</td>\n",
              "    </tr>\n",
              "    <tr>\n",
              "      <th>...</th>\n",
              "      <td>...</td>\n",
              "      <td>...</td>\n",
              "      <td>...</td>\n",
              "      <td>...</td>\n",
              "      <td>...</td>\n",
              "    </tr>\n",
              "    <tr>\n",
              "      <th>1518</th>\n",
              "      <td>NaN</td>\n",
              "      <td>NaN</td>\n",
              "      <td>NaN</td>\n",
              "      <td>NaN</td>\n",
              "      <td>NaN</td>\n",
              "    </tr>\n",
              "    <tr>\n",
              "      <th>1519</th>\n",
              "      <td>NaN</td>\n",
              "      <td>NaN</td>\n",
              "      <td>NaN</td>\n",
              "      <td>NaN</td>\n",
              "      <td>NaN</td>\n",
              "    </tr>\n",
              "    <tr>\n",
              "      <th>1520</th>\n",
              "      <td>NaN</td>\n",
              "      <td>NaN</td>\n",
              "      <td>NaN</td>\n",
              "      <td>NaN</td>\n",
              "      <td>NaN</td>\n",
              "    </tr>\n",
              "    <tr>\n",
              "      <th>1521</th>\n",
              "      <td>NaN</td>\n",
              "      <td>NaN</td>\n",
              "      <td>NaN</td>\n",
              "      <td>NaN</td>\n",
              "      <td>NaN</td>\n",
              "    </tr>\n",
              "    <tr>\n",
              "      <th>1522</th>\n",
              "      <td>NaN</td>\n",
              "      <td>NaN</td>\n",
              "      <td>NaN</td>\n",
              "      <td>NaN</td>\n",
              "      <td>NaN</td>\n",
              "    </tr>\n",
              "  </tbody>\n",
              "</table>\n",
              "<p>1523 rows × 5 columns</p>\n",
              "</div>\n",
              "      <button class=\"colab-df-convert\" onclick=\"convertToInteractive('df-74fcb8e5-0c52-46db-bf9b-5f3f31ec8f43')\"\n",
              "              title=\"Convert this dataframe to an interactive table.\"\n",
              "              style=\"display:none;\">\n",
              "        \n",
              "  <svg xmlns=\"http://www.w3.org/2000/svg\" height=\"24px\"viewBox=\"0 0 24 24\"\n",
              "       width=\"24px\">\n",
              "    <path d=\"M0 0h24v24H0V0z\" fill=\"none\"/>\n",
              "    <path d=\"M18.56 5.44l.94 2.06.94-2.06 2.06-.94-2.06-.94-.94-2.06-.94 2.06-2.06.94zm-11 1L8.5 8.5l.94-2.06 2.06-.94-2.06-.94L8.5 2.5l-.94 2.06-2.06.94zm10 10l.94 2.06.94-2.06 2.06-.94-2.06-.94-.94-2.06-.94 2.06-2.06.94z\"/><path d=\"M17.41 7.96l-1.37-1.37c-.4-.4-.92-.59-1.43-.59-.52 0-1.04.2-1.43.59L10.3 9.45l-7.72 7.72c-.78.78-.78 2.05 0 2.83L4 21.41c.39.39.9.59 1.41.59.51 0 1.02-.2 1.41-.59l7.78-7.78 2.81-2.81c.8-.78.8-2.07 0-2.86zM5.41 20L4 18.59l7.72-7.72 1.47 1.35L5.41 20z\"/>\n",
              "  </svg>\n",
              "      </button>\n",
              "      \n",
              "  <style>\n",
              "    .colab-df-container {\n",
              "      display:flex;\n",
              "      flex-wrap:wrap;\n",
              "      gap: 12px;\n",
              "    }\n",
              "\n",
              "    .colab-df-convert {\n",
              "      background-color: #E8F0FE;\n",
              "      border: none;\n",
              "      border-radius: 50%;\n",
              "      cursor: pointer;\n",
              "      display: none;\n",
              "      fill: #1967D2;\n",
              "      height: 32px;\n",
              "      padding: 0 0 0 0;\n",
              "      width: 32px;\n",
              "    }\n",
              "\n",
              "    .colab-df-convert:hover {\n",
              "      background-color: #E2EBFA;\n",
              "      box-shadow: 0px 1px 2px rgba(60, 64, 67, 0.3), 0px 1px 3px 1px rgba(60, 64, 67, 0.15);\n",
              "      fill: #174EA6;\n",
              "    }\n",
              "\n",
              "    [theme=dark] .colab-df-convert {\n",
              "      background-color: #3B4455;\n",
              "      fill: #D2E3FC;\n",
              "    }\n",
              "\n",
              "    [theme=dark] .colab-df-convert:hover {\n",
              "      background-color: #434B5C;\n",
              "      box-shadow: 0px 1px 3px 1px rgba(0, 0, 0, 0.15);\n",
              "      filter: drop-shadow(0px 1px 2px rgba(0, 0, 0, 0.3));\n",
              "      fill: #FFFFFF;\n",
              "    }\n",
              "  </style>\n",
              "\n",
              "      <script>\n",
              "        const buttonEl =\n",
              "          document.querySelector('#df-74fcb8e5-0c52-46db-bf9b-5f3f31ec8f43 button.colab-df-convert');\n",
              "        buttonEl.style.display =\n",
              "          google.colab.kernel.accessAllowed ? 'block' : 'none';\n",
              "\n",
              "        async function convertToInteractive(key) {\n",
              "          const element = document.querySelector('#df-74fcb8e5-0c52-46db-bf9b-5f3f31ec8f43');\n",
              "          const dataTable =\n",
              "            await google.colab.kernel.invokeFunction('convertToInteractive',\n",
              "                                                     [key], {});\n",
              "          if (!dataTable) return;\n",
              "\n",
              "          const docLinkHtml = 'Like what you see? Visit the ' +\n",
              "            '<a target=\"_blank\" href=https://colab.research.google.com/notebooks/data_table.ipynb>data table notebook</a>'\n",
              "            + ' to learn more about interactive tables.';\n",
              "          element.innerHTML = '';\n",
              "          dataTable['output_type'] = 'display_data';\n",
              "          await google.colab.output.renderOutput(dataTable, element);\n",
              "          const docLink = document.createElement('div');\n",
              "          docLink.innerHTML = docLinkHtml;\n",
              "          element.appendChild(docLink);\n",
              "        }\n",
              "      </script>\n",
              "    </div>\n",
              "  </div>\n",
              "  "
            ]
          },
          "metadata": {},
          "execution_count": 93
        }
      ]
    },
    {
      "cell_type": "markdown",
      "source": [
        "###1b) Checking out the \"Month\" column"
      ],
      "metadata": {
        "id": "XwYBnEd0R21H"
      }
    },
    {
      "cell_type": "code",
      "source": [
        "repayment['Month'].isnull().values.sum()\n",
        "\n",
        "#this dataset has 1523 rows of which 23 rows are NA in the 'Month' column"
      ],
      "metadata": {
        "colab": {
          "base_uri": "https://localhost:8080/"
        },
        "id": "g9tHM0mcMNZT",
        "outputId": "5d5c62c8-20cb-4c67-bf6d-2b47402311e4"
      },
      "execution_count": 94,
      "outputs": [
        {
          "output_type": "execute_result",
          "data": {
            "text/plain": [
              "23"
            ]
          },
          "metadata": {},
          "execution_count": 94
        }
      ]
    },
    {
      "cell_type": "code",
      "source": [
        "repayment['Month'].sample(5)\n",
        "\n",
        "#note that the 'Month' column is a String format!\n",
        "#But which it should be a Date Time Format!"
      ],
      "metadata": {
        "colab": {
          "base_uri": "https://localhost:8080/"
        },
        "id": "PayWZOpmC2JU",
        "outputId": "8c3523a6-a789-4450-a171-123217ef9cb6"
      },
      "execution_count": 95,
      "outputs": [
        {
          "output_type": "execute_result",
          "data": {
            "text/plain": [
              "985     29-May-05\n",
              "1174    23-Feb-05\n",
              "1346     6-May-06\n",
              "1382     5-May-04\n",
              "1407     3-Aug-05\n",
              "Name: Month, dtype: object"
            ]
          },
          "metadata": {},
          "execution_count": 95
        }
      ]
    },
    {
      "cell_type": "markdown",
      "source": [
        "\n",
        "\n",
        "---\n",
        "\n"
      ],
      "metadata": {
        "id": "Gnira3aJSNzm"
      }
    },
    {
      "cell_type": "markdown",
      "source": [
        "##Step 2: Convert the 'Month' column to Date Time format"
      ],
      "metadata": {
        "id": "W9okNmQ6SJiE"
      }
    },
    {
      "cell_type": "code",
      "source": [
        "repayment['Month'] = pd.to_datetime(repayment['Month'])"
      ],
      "metadata": {
        "id": "iib3UT-NES7D"
      },
      "execution_count": 96,
      "outputs": []
    },
    {
      "cell_type": "code",
      "source": [
        "repayment['Month'].sample(5)\n",
        "\n",
        "#it has now been converted to datetime format!"
      ],
      "metadata": {
        "colab": {
          "base_uri": "https://localhost:8080/"
        },
        "id": "Jc2pX_ulSpOO",
        "outputId": "483649c1-52cb-4560-c9a2-d35d6ed44211"
      },
      "execution_count": 97,
      "outputs": [
        {
          "output_type": "execute_result",
          "data": {
            "text/plain": [
              "309    2004-01-15\n",
              "1415   2006-04-03\n",
              "784    2005-02-16\n",
              "177    2005-12-03\n",
              "258    2006-05-06\n",
              "Name: Month, dtype: datetime64[ns]"
            ]
          },
          "metadata": {},
          "execution_count": 97
        }
      ]
    },
    {
      "cell_type": "markdown",
      "source": [
        "\n",
        "\n",
        "---\n",
        "\n"
      ],
      "metadata": {
        "id": "lZDExia_TjLL"
      }
    },
    {
      "cell_type": "markdown",
      "source": [
        "##Step 3: Plot the Number of Repayments per Year"
      ],
      "metadata": {
        "id": "PitObagoSxe1"
      }
    },
    {
      "cell_type": "code",
      "source": [
        "plt.figure(figsize=(6,3), dpi=90)\n",
        "\n",
        "repayment['Month'].dt.year.value_counts().sort_index().plot.bar(color = 'darkblue')\n",
        "\n",
        "plt.xlabel('Year')\n",
        "plt.ylabel('Counts of Repayment')\n",
        "plt.title('Number of Repayments per Year')\n",
        "\n",
        "#the distribution shows us that the Repayments have been increasing \n",
        "#for the past three years"
      ],
      "metadata": {
        "colab": {
          "base_uri": "https://localhost:8080/",
          "height": 345
        },
        "id": "8Y4c0nPnJsbT",
        "outputId": "c61efed4-1ba4-42f1-e6e2-5ee009b469ee"
      },
      "execution_count": 98,
      "outputs": [
        {
          "output_type": "execute_result",
          "data": {
            "text/plain": [
              "Text(0.5, 1.0, 'Number of Repayments per Year')"
            ]
          },
          "metadata": {},
          "execution_count": 98
        },
        {
          "output_type": "display_data",
          "data": {
            "text/plain": [
              "<Figure size 540x270 with 1 Axes>"
            ],
            "image/png": "[encoded data removed]"
          },
          "metadata": {
            "needs_background": "light"
          }
        }
      ]
    },
    {
      "cell_type": "markdown",
      "source": [
        "\n",
        "\n",
        "---\n",
        "\n"
      ],
      "metadata": {
        "id": "LZppvXACThm8"
      }
    },
    {
      "cell_type": "markdown",
      "source": [
        "##Step 4: Train Test Split based on Dates"
      ],
      "metadata": {
        "id": "rf6y1zxLTfIT"
      }
    },
    {
      "cell_type": "code",
      "source": [
        "repayment_train = repayment.loc[repayment['Month'] < repayment['Month'].quantile(0.8)]\n",
        "repayment_test = repayment.loc[repayment['Month'] >= repayment['Month'].quantile(0.8)]\n",
        "\n",
        "#Train set = 80% of the data\n",
        "#in other words, the TRAIN dataset will consist of OLDER DATES\n",
        "\n",
        "#Test set = 20% of the data\n",
        "#in other words, the TEST dataset will consist of MOST RECENT DATES\n",
        "#the 20% of MOST RECENT DATES"
      ],
      "metadata": {
        "id": "Fgtt0yoyLOGn"
      },
      "execution_count": 99,
      "outputs": []
    },
    {
      "cell_type": "markdown",
      "source": [
        "\n",
        "\n",
        "---\n",
        "\n"
      ],
      "metadata": {
        "id": "0IJNTBNSUMeU"
      }
    },
    {
      "cell_type": "markdown",
      "source": [
        "##Step 5: Double Checking the No. of Rows for Train Test Split "
      ],
      "metadata": {
        "id": "cOjSFIFxT93E"
      }
    },
    {
      "cell_type": "code",
      "source": [
        "print('Number of Rows in Train Test Split: ', repayment_train.shape[0] + repayment_test.shape[0])\n",
        "print('Number of Rows in the full dataset:  ', repayment.shape[0])\n",
        "\n",
        "#we see that the Original Dataset has 1523 rows \n",
        "#while the Train Test Split has 1500 rows\n",
        "#because 23 rows of NaNs have been omitted "
      ],
      "metadata": {
        "colab": {
          "base_uri": "https://localhost:8080/"
        },
        "id": "bAzB5wyULruF",
        "outputId": "987f7f5e-9957-4e6e-bb76-8e8394597819"
      },
      "execution_count": 101,
      "outputs": [
        {
          "output_type": "stream",
          "name": "stdout",
          "text": [
            "Number of Rows in Train Test Split:  1500\n",
            "Number of Rows in the full dataset:   1523\n"
          ]
        }
      ]
    },
    {
      "cell_type": "markdown",
      "source": [
        "\n",
        "\n",
        "---\n",
        "\n"
      ],
      "metadata": {
        "id": "4ANkYvS7Ut20"
      }
    },
    {
      "cell_type": "markdown",
      "source": [
        "##Step 6: Assigning the Train Test Split to X and y"
      ],
      "metadata": {
        "id": "cwDjQ6QvUmaU"
      }
    },
    {
      "cell_type": "markdown",
      "source": [
        "###6a) Assigning y_train and y_test"
      ],
      "metadata": {
        "id": "15VlboXHVpki"
      }
    },
    {
      "cell_type": "code",
      "source": [
        "y_train = repayment_train['Amount']\n",
        "y_test =  repayment_test['Amount']\n",
        "\n",
        "#let's say we are trying to predict the \"Amount\" of repayment....\n",
        "#thus \"Amount\" columns is y"
      ],
      "metadata": {
        "id": "2S6HLE5NNApN"
      },
      "execution_count": 105,
      "outputs": []
    },
    {
      "cell_type": "code",
      "source": [
        "y_train\n",
        "#80% x 1500 rows = 1200 rows"
      ],
      "metadata": {
        "colab": {
          "base_uri": "https://localhost:8080/"
        },
        "id": "wUpcbgpBPVoa",
        "outputId": "8beb445a-f4f1-40f2-85e4-e4eae2b09d55"
      },
      "execution_count": 106,
      "outputs": [
        {
          "output_type": "execute_result",
          "data": {
            "text/plain": [
              "0       495414.75\n",
              "1       245899.02\n",
              "2       259490.06\n",
              "3       437555.12\n",
              "4       165972.88\n",
              "          ...    \n",
              "1491    416676.34\n",
              "1493    230667.34\n",
              "1495     55638.77\n",
              "1498    454016.51\n",
              "1499     56286.33\n",
              "Name: Amount, Length: 1199, dtype: float64"
            ]
          },
          "metadata": {},
          "execution_count": 106
        }
      ]
    },
    {
      "cell_type": "code",
      "source": [
        "y_test\n",
        "#20% x 1500 = 300 rows"
      ],
      "metadata": {
        "colab": {
          "base_uri": "https://localhost:8080/"
        },
        "id": "N9IF_-HFPfTF",
        "outputId": "64eac2f7-683f-4209-fb80-7b383ba6447c"
      },
      "execution_count": 107,
      "outputs": [
        {
          "output_type": "execute_result",
          "data": {
            "text/plain": [
              "19      471099.22\n",
              "21      219264.02\n",
              "25      470982.16\n",
              "27      326050.15\n",
              "29      481343.32\n",
              "          ...    \n",
              "1488    187041.66\n",
              "1492    110614.61\n",
              "1494    113094.58\n",
              "1496    319836.49\n",
              "1497    247628.45\n",
              "Name: Amount, Length: 301, dtype: float64"
            ]
          },
          "metadata": {},
          "execution_count": 107
        }
      ]
    },
    {
      "cell_type": "markdown",
      "source": [
        "### 6b) Assigning X_train and X_test"
      ],
      "metadata": {
        "id": "HpEjuuqLVvZC"
      }
    },
    {
      "cell_type": "code",
      "source": [
        "X_train = repayment_train.drop('Amount', axis = 1)"
      ],
      "metadata": {
        "id": "czFUQUoBPijs"
      },
      "execution_count": 108,
      "outputs": []
    },
    {
      "cell_type": "code",
      "source": [
        "X_test =  repayment_test.drop('Amount', axis = 1)"
      ],
      "metadata": {
        "id": "nr-s8_YpQBAB"
      },
      "execution_count": 109,
      "outputs": []
    },
    {
      "cell_type": "code",
      "source": [
        "X_train\n",
        "#80% x 1500 rows = 1200 rows"
      ],
      "metadata": {
        "colab": {
          "base_uri": "https://localhost:8080/",
          "height": 423
        },
        "id": "HDdYzn02Qgz2",
        "outputId": "2b1c769c-ef03-482f-b651-15ba82fc565e"
      },
      "execution_count": 110,
      "outputs": [
        {
          "output_type": "execute_result",
          "data": {
            "text/plain": [
              "      SL No: Customer      Month  Unnamed: 4\n",
              "0        NaN       A1 2004-01-12         NaN\n",
              "1        2.0       A1 2004-01-03         NaN\n",
              "2        3.0       A1 2004-01-15         NaN\n",
              "3        4.0       A1 2004-01-25         NaN\n",
              "4        5.0       A1 2005-01-17         NaN\n",
              "...      ...      ...        ...         ...\n",
              "1491  1492.0      A63 2004-05-05         NaN\n",
              "1493  1494.0      A65 2005-05-07         NaN\n",
              "1495  1496.0      A67 2005-05-09         NaN\n",
              "1498  1499.0      A70 2005-08-12         NaN\n",
              "1499  1500.0      A71 2004-09-13         NaN\n",
              "\n",
              "[1199 rows x 4 columns]"
            ],
            "text/html": [
              "\n",
              "  <div id=\"df-3fe58cac-745f-45d7-98c0-c8efa81f4e5b\">\n",
              "    <div class=\"colab-df-container\">\n",
              "      <div>\n",
              "<style scoped>\n",
              "    .dataframe tbody tr th:only-of-type {\n",
              "        vertical-align: middle;\n",
              "    }\n",
              "\n",
              "    .dataframe tbody tr th {\n",
              "        vertical-align: top;\n",
              "    }\n",
              "\n",
              "    .dataframe thead th {\n",
              "        text-align: right;\n",
              "    }\n",
              "</style>\n",
              "<table border=\"1\" class=\"dataframe\">\n",
              "  <thead>\n",
              "    <tr style=\"text-align: right;\">\n",
              "      <th></th>\n",
              "      <th>SL No:</th>\n",
              "      <th>Customer</th>\n",
              "      <th>Month</th>\n",
              "      <th>Unnamed: 4</th>\n",
              "    </tr>\n",
              "  </thead>\n",
              "  <tbody>\n",
              "    <tr>\n",
              "      <th>0</th>\n",
              "      <td>NaN</td>\n",
              "      <td>A1</td>\n",
              "      <td>2004-01-12</td>\n",
              "      <td>NaN</td>\n",
              "    </tr>\n",
              "    <tr>\n",
              "      <th>1</th>\n",
              "      <td>2.0</td>\n",
              "      <td>A1</td>\n",
              "      <td>2004-01-03</td>\n",
              "      <td>NaN</td>\n",
              "    </tr>\n",
              "    <tr>\n",
              "      <th>2</th>\n",
              "      <td>3.0</td>\n",
              "      <td>A1</td>\n",
              "      <td>2004-01-15</td>\n",
              "      <td>NaN</td>\n",
              "    </tr>\n",
              "    <tr>\n",
              "      <th>3</th>\n",
              "      <td>4.0</td>\n",
              "      <td>A1</td>\n",
              "      <td>2004-01-25</td>\n",
              "      <td>NaN</td>\n",
              "    </tr>\n",
              "    <tr>\n",
              "      <th>4</th>\n",
              "      <td>5.0</td>\n",
              "      <td>A1</td>\n",
              "      <td>2005-01-17</td>\n",
              "      <td>NaN</td>\n",
              "    </tr>\n",
              "    <tr>\n",
              "      <th>...</th>\n",
              "      <td>...</td>\n",
              "      <td>...</td>\n",
              "      <td>...</td>\n",
              "      <td>...</td>\n",
              "    </tr>\n",
              "    <tr>\n",
              "      <th>1491</th>\n",
              "      <td>1492.0</td>\n",
              "      <td>A63</td>\n",
              "      <td>2004-05-05</td>\n",
              "      <td>NaN</td>\n",
              "    </tr>\n",
              "    <tr>\n",
              "      <th>1493</th>\n",
              "      <td>1494.0</td>\n",
              "      <td>A65</td>\n",
              "      <td>2005-05-07</td>\n",
              "      <td>NaN</td>\n",
              "    </tr>\n",
              "    <tr>\n",
              "      <th>1495</th>\n",
              "      <td>1496.0</td>\n",
              "      <td>A67</td>\n",
              "      <td>2005-05-09</td>\n",
              "      <td>NaN</td>\n",
              "    </tr>\n",
              "    <tr>\n",
              "      <th>1498</th>\n",
              "      <td>1499.0</td>\n",
              "      <td>A70</td>\n",
              "      <td>2005-08-12</td>\n",
              "      <td>NaN</td>\n",
              "    </tr>\n",
              "    <tr>\n",
              "      <th>1499</th>\n",
              "      <td>1500.0</td>\n",
              "      <td>A71</td>\n",
              "      <td>2004-09-13</td>\n",
              "      <td>NaN</td>\n",
              "    </tr>\n",
              "  </tbody>\n",
              "</table>\n",
              "<p>1199 rows × 4 columns</p>\n",
              "</div>\n",
              "      <button class=\"colab-df-convert\" onclick=\"convertToInteractive('df-3fe58cac-745f-45d7-98c0-c8efa81f4e5b')\"\n",
              "              title=\"Convert this dataframe to an interactive table.\"\n",
              "              style=\"display:none;\">\n",
              "        \n",
              "  <svg xmlns=\"http://www.w3.org/2000/svg\" height=\"24px\"viewBox=\"0 0 24 24\"\n",
              "       width=\"24px\">\n",
              "    <path d=\"M0 0h24v24H0V0z\" fill=\"none\"/>\n",
              "    <path d=\"M18.56 5.44l.94 2.06.94-2.06 2.06-.94-2.06-.94-.94-2.06-.94 2.06-2.06.94zm-11 1L8.5 8.5l.94-2.06 2.06-.94-2.06-.94L8.5 2.5l-.94 2.06-2.06.94zm10 10l.94 2.06.94-2.06 2.06-.94-2.06-.94-.94-2.06-.94 2.06-2.06.94z\"/><path d=\"M17.41 7.96l-1.37-1.37c-.4-.4-.92-.59-1.43-.59-.52 0-1.04.2-1.43.59L10.3 9.45l-7.72 7.72c-.78.78-.78 2.05 0 2.83L4 21.41c.39.39.9.59 1.41.59.51 0 1.02-.2 1.41-.59l7.78-7.78 2.81-2.81c.8-.78.8-2.07 0-2.86zM5.41 20L4 18.59l7.72-7.72 1.47 1.35L5.41 20z\"/>\n",
              "  </svg>\n",
              "      </button>\n",
              "      \n",
              "  <style>\n",
              "    .colab-df-container {\n",
              "      display:flex;\n",
              "      flex-wrap:wrap;\n",
              "      gap: 12px;\n",
              "    }\n",
              "\n",
              "    .colab-df-convert {\n",
              "      background-color: #E8F0FE;\n",
              "      border: none;\n",
              "      border-radius: 50%;\n",
              "      cursor: pointer;\n",
              "      display: none;\n",
              "      fill: #1967D2;\n",
              "      height: 32px;\n",
              "      padding: 0 0 0 0;\n",
              "      width: 32px;\n",
              "    }\n",
              "\n",
              "    .colab-df-convert:hover {\n",
              "      background-color: #E2EBFA;\n",
              "      box-shadow: 0px 1px 2px rgba(60, 64, 67, 0.3), 0px 1px 3px 1px rgba(60, 64, 67, 0.15);\n",
              "      fill: #174EA6;\n",
              "    }\n",
              "\n",
              "    [theme=dark] .colab-df-convert {\n",
              "      background-color: #3B4455;\n",
              "      fill: #D2E3FC;\n",
              "    }\n",
              "\n",
              "    [theme=dark] .colab-df-convert:hover {\n",
              "      background-color: #434B5C;\n",
              "      box-shadow: 0px 1px 3px 1px rgba(0, 0, 0, 0.15);\n",
              "      filter: drop-shadow(0px 1px 2px rgba(0, 0, 0, 0.3));\n",
              "      fill: #FFFFFF;\n",
              "    }\n",
              "  </style>\n",
              "\n",
              "      <script>\n",
              "        const buttonEl =\n",
              "          document.querySelector('#df-3fe58cac-745f-45d7-98c0-c8efa81f4e5b button.colab-df-convert');\n",
              "        buttonEl.style.display =\n",
              "          google.colab.kernel.accessAllowed ? 'block' : 'none';\n",
              "\n",
              "        async function convertToInteractive(key) {\n",
              "          const element = document.querySelector('#df-3fe58cac-745f-45d7-98c0-c8efa81f4e5b');\n",
              "          const dataTable =\n",
              "            await google.colab.kernel.invokeFunction('convertToInteractive',\n",
              "                                                     [key], {});\n",
              "          if (!dataTable) return;\n",
              "\n",
              "          const docLinkHtml = 'Like what you see? Visit the ' +\n",
              "            '<a target=\"_blank\" href=https://colab.research.google.com/notebooks/data_table.ipynb>data table notebook</a>'\n",
              "            + ' to learn more about interactive tables.';\n",
              "          element.innerHTML = '';\n",
              "          dataTable['output_type'] = 'display_data';\n",
              "          await google.colab.output.renderOutput(dataTable, element);\n",
              "          const docLink = document.createElement('div');\n",
              "          docLink.innerHTML = docLinkHtml;\n",
              "          element.appendChild(docLink);\n",
              "        }\n",
              "      </script>\n",
              "    </div>\n",
              "  </div>\n",
              "  "
            ]
          },
          "metadata": {},
          "execution_count": 110
        }
      ]
    },
    {
      "cell_type": "code",
      "source": [
        "X_test\n",
        "#20% x 1500 = 300 rows"
      ],
      "metadata": {
        "colab": {
          "base_uri": "https://localhost:8080/",
          "height": 423
        },
        "id": "u2jY9KDoQj1S",
        "outputId": "7efbc2c2-fe08-4ce0-8a0b-0cd32ce22ce2"
      },
      "execution_count": 111,
      "outputs": [
        {
          "output_type": "execute_result",
          "data": {
            "text/plain": [
              "      SL No: Customer      Month  Unnamed: 4\n",
              "19      20.0      A20 2006-04-30         NaN\n",
              "21      22.0      A22 2006-04-19         NaN\n",
              "25      26.0      A26 2006-05-06         NaN\n",
              "27      28.0      A28 2006-05-08         NaN\n",
              "29      30.0      A30 2006-05-10         NaN\n",
              "...      ...      ...        ...         ...\n",
              "1488  1489.0      A60 2006-04-19         NaN\n",
              "1492  1493.0      A64 2006-05-06         NaN\n",
              "1494  1495.0      A66 2006-05-08         NaN\n",
              "1496  1497.0      A68 2006-05-10         NaN\n",
              "1497  1498.0      A69 2006-07-11         NaN\n",
              "\n",
              "[301 rows x 4 columns]"
            ],
            "text/html": [
              "\n",
              "  <div id=\"df-d283c89b-7526-470e-82be-b2afe3c668f5\">\n",
              "    <div class=\"colab-df-container\">\n",
              "      <div>\n",
              "<style scoped>\n",
              "    .dataframe tbody tr th:only-of-type {\n",
              "        vertical-align: middle;\n",
              "    }\n",
              "\n",
              "    .dataframe tbody tr th {\n",
              "        vertical-align: top;\n",
              "    }\n",
              "\n",
              "    .dataframe thead th {\n",
              "        text-align: right;\n",
              "    }\n",
              "</style>\n",
              "<table border=\"1\" class=\"dataframe\">\n",
              "  <thead>\n",
              "    <tr style=\"text-align: right;\">\n",
              "      <th></th>\n",
              "      <th>SL No:</th>\n",
              "      <th>Customer</th>\n",
              "      <th>Month</th>\n",
              "      <th>Unnamed: 4</th>\n",
              "    </tr>\n",
              "  </thead>\n",
              "  <tbody>\n",
              "    <tr>\n",
              "      <th>19</th>\n",
              "      <td>20.0</td>\n",
              "      <td>A20</td>\n",
              "      <td>2006-04-30</td>\n",
              "      <td>NaN</td>\n",
              "    </tr>\n",
              "    <tr>\n",
              "      <th>21</th>\n",
              "      <td>22.0</td>\n",
              "      <td>A22</td>\n",
              "      <td>2006-04-19</td>\n",
              "      <td>NaN</td>\n",
              "    </tr>\n",
              "    <tr>\n",
              "      <th>25</th>\n",
              "      <td>26.0</td>\n",
              "      <td>A26</td>\n",
              "      <td>2006-05-06</td>\n",
              "      <td>NaN</td>\n",
              "    </tr>\n",
              "    <tr>\n",
              "      <th>27</th>\n",
              "      <td>28.0</td>\n",
              "      <td>A28</td>\n",
              "      <td>2006-05-08</td>\n",
              "      <td>NaN</td>\n",
              "    </tr>\n",
              "    <tr>\n",
              "      <th>29</th>\n",
              "      <td>30.0</td>\n",
              "      <td>A30</td>\n",
              "      <td>2006-05-10</td>\n",
              "      <td>NaN</td>\n",
              "    </tr>\n",
              "    <tr>\n",
              "      <th>...</th>\n",
              "      <td>...</td>\n",
              "      <td>...</td>\n",
              "      <td>...</td>\n",
              "      <td>...</td>\n",
              "    </tr>\n",
              "    <tr>\n",
              "      <th>1488</th>\n",
              "      <td>1489.0</td>\n",
              "      <td>A60</td>\n",
              "      <td>2006-04-19</td>\n",
              "      <td>NaN</td>\n",
              "    </tr>\n",
              "    <tr>\n",
              "      <th>1492</th>\n",
              "      <td>1493.0</td>\n",
              "      <td>A64</td>\n",
              "      <td>2006-05-06</td>\n",
              "      <td>NaN</td>\n",
              "    </tr>\n",
              "    <tr>\n",
              "      <th>1494</th>\n",
              "      <td>1495.0</td>\n",
              "      <td>A66</td>\n",
              "      <td>2006-05-08</td>\n",
              "      <td>NaN</td>\n",
              "    </tr>\n",
              "    <tr>\n",
              "      <th>1496</th>\n",
              "      <td>1497.0</td>\n",
              "      <td>A68</td>\n",
              "      <td>2006-05-10</td>\n",
              "      <td>NaN</td>\n",
              "    </tr>\n",
              "    <tr>\n",
              "      <th>1497</th>\n",
              "      <td>1498.0</td>\n",
              "      <td>A69</td>\n",
              "      <td>2006-07-11</td>\n",
              "      <td>NaN</td>\n",
              "    </tr>\n",
              "  </tbody>\n",
              "</table>\n",
              "<p>301 rows × 4 columns</p>\n",
              "</div>\n",
              "      <button class=\"colab-df-convert\" onclick=\"convertToInteractive('df-d283c89b-7526-470e-82be-b2afe3c668f5')\"\n",
              "              title=\"Convert this dataframe to an interactive table.\"\n",
              "              style=\"display:none;\">\n",
              "        \n",
              "  <svg xmlns=\"http://www.w3.org/2000/svg\" height=\"24px\"viewBox=\"0 0 24 24\"\n",
              "       width=\"24px\">\n",
              "    <path d=\"M0 0h24v24H0V0z\" fill=\"none\"/>\n",
              "    <path d=\"M18.56 5.44l.94 2.06.94-2.06 2.06-.94-2.06-.94-.94-2.06-.94 2.06-2.06.94zm-11 1L8.5 8.5l.94-2.06 2.06-.94-2.06-.94L8.5 2.5l-.94 2.06-2.06.94zm10 10l.94 2.06.94-2.06 2.06-.94-2.06-.94-.94-2.06-.94 2.06-2.06.94z\"/><path d=\"M17.41 7.96l-1.37-1.37c-.4-.4-.92-.59-1.43-.59-.52 0-1.04.2-1.43.59L10.3 9.45l-7.72 7.72c-.78.78-.78 2.05 0 2.83L4 21.41c.39.39.9.59 1.41.59.51 0 1.02-.2 1.41-.59l7.78-7.78 2.81-2.81c.8-.78.8-2.07 0-2.86zM5.41 20L4 18.59l7.72-7.72 1.47 1.35L5.41 20z\"/>\n",
              "  </svg>\n",
              "      </button>\n",
              "      \n",
              "  <style>\n",
              "    .colab-df-container {\n",
              "      display:flex;\n",
              "      flex-wrap:wrap;\n",
              "      gap: 12px;\n",
              "    }\n",
              "\n",
              "    .colab-df-convert {\n",
              "      background-color: #E8F0FE;\n",
              "      border: none;\n",
              "      border-radius: 50%;\n",
              "      cursor: pointer;\n",
              "      display: none;\n",
              "      fill: #1967D2;\n",
              "      height: 32px;\n",
              "      padding: 0 0 0 0;\n",
              "      width: 32px;\n",
              "    }\n",
              "\n",
              "    .colab-df-convert:hover {\n",
              "      background-color: #E2EBFA;\n",
              "      box-shadow: 0px 1px 2px rgba(60, 64, 67, 0.3), 0px 1px 3px 1px rgba(60, 64, 67, 0.15);\n",
              "      fill: #174EA6;\n",
              "    }\n",
              "\n",
              "    [theme=dark] .colab-df-convert {\n",
              "      background-color: #3B4455;\n",
              "      fill: #D2E3FC;\n",
              "    }\n",
              "\n",
              "    [theme=dark] .colab-df-convert:hover {\n",
              "      background-color: #434B5C;\n",
              "      box-shadow: 0px 1px 3px 1px rgba(0, 0, 0, 0.15);\n",
              "      filter: drop-shadow(0px 1px 2px rgba(0, 0, 0, 0.3));\n",
              "      fill: #FFFFFF;\n",
              "    }\n",
              "  </style>\n",
              "\n",
              "      <script>\n",
              "        const buttonEl =\n",
              "          document.querySelector('#df-d283c89b-7526-470e-82be-b2afe3c668f5 button.colab-df-convert');\n",
              "        buttonEl.style.display =\n",
              "          google.colab.kernel.accessAllowed ? 'block' : 'none';\n",
              "\n",
              "        async function convertToInteractive(key) {\n",
              "          const element = document.querySelector('#df-d283c89b-7526-470e-82be-b2afe3c668f5');\n",
              "          const dataTable =\n",
              "            await google.colab.kernel.invokeFunction('convertToInteractive',\n",
              "                                                     [key], {});\n",
              "          if (!dataTable) return;\n",
              "\n",
              "          const docLinkHtml = 'Like what you see? Visit the ' +\n",
              "            '<a target=\"_blank\" href=https://colab.research.google.com/notebooks/data_table.ipynb>data table notebook</a>'\n",
              "            + ' to learn more about interactive tables.';\n",
              "          element.innerHTML = '';\n",
              "          dataTable['output_type'] = 'display_data';\n",
              "          await google.colab.output.renderOutput(dataTable, element);\n",
              "          const docLink = document.createElement('div');\n",
              "          docLink.innerHTML = docLinkHtml;\n",
              "          element.appendChild(docLink);\n",
              "        }\n",
              "      </script>\n",
              "    </div>\n",
              "  </div>\n",
              "  "
            ]
          },
          "metadata": {},
          "execution_count": 111
        }
      ]
    },
    {
      "cell_type": "markdown",
      "source": [
        "\n",
        "\n",
        "---\n",
        "#THE END\n",
        "\n",
        "\n",
        "---\n",
        "\n",
        "\n",
        "\n"
      ],
      "metadata": {
        "id": "p7xh2fmYWIAC"
      }
    }
  ]
}